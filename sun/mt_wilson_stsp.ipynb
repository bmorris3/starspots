{
 "cells": [
  {
   "cell_type": "markdown",
   "metadata": {},
   "source": [
    "# Mt Wilson Sunspot database 1917-1985\n",
    "\n",
    "From the readme: \n",
    "\n",
    "> Sunspot umbral position and area information were digitized from the Mount Wilson daily white-light solar images some years ago (Howard, Gilman, and Gilman, 1984). These photographic images exist in a series that extends from 1917 through the present time. The digitized data extend from 1917 through 1985. Details about the observations, the measurement procedure, and the analysis techniques used earlier may be obtained from the earlier reference (Howard, Gilman, and Gilman, 1984).\n",
    "\n",
    "These data were first published in [Howard, Gilman, and Gilman, 1984](http://adsabs.harvard.edu/abs/1984ApJ...283..373H). The data are accessible online [here](http://www.ngdc.noaa.gov/stp/solar/sunspotregionsdata.html)."
   ]
  },
  {
   "cell_type": "code",
   "execution_count": 1,
   "metadata": {
    "collapsed": true
   },
   "outputs": [],
   "source": [
    "%matplotlib inline\n",
    "import numpy as np\n",
    "import matplotlib.pyplot as plt\n",
    "from glob import glob\n",
    "\n",
    "#paths = glob('/Users/bmmorris/data/Mt_Wilson_Tilt/*/sspot??.dat')\n",
    "paths = glob('/local/tmp/Mt_Wilson_Tilt/*/sspot??.dat')\n",
    "\n",
    "from astropy.time import Time\n",
    "import astropy.units as u\n",
    "import string\n",
    "from astropy.table import Table"
   ]
  },
  {
   "cell_type": "code",
   "execution_count": 10,
   "metadata": {
    "collapsed": false
   },
   "outputs": [
    {
     "name": "stderr",
     "output_type": "stream",
     "text": [
      "WARNING: ErfaWarning: ERFA function \"dtf2d\" yielded 1 of \"dubious year (Note 6)\" [astropy._erfa.core]\n"
     ]
    }
   ],
   "source": [
    "# def split_interval(string, n, cast_to_type=float):\n",
    "#     return [cast_to_type(string[i:i+n]) for i in range(0, len(string), n)]\n",
    "\n",
    "# all_years_array = []\n",
    "\n",
    "# header = (\"jd n_spots_leading n_spots_following n_spots_day_1 n_spots_day_2 \"\n",
    "#           \"rotation_rate latitude_drift area_weighted_latitude_day_1 area_weighted_longitude_day_1 \"\n",
    "#           \"area_weighted_longitude_day_2 area_day_1 area_day_2 tilt_day_1 delta_polarity_separation \"\n",
    "#           \"area_weighted_longitude_day_1_leading area_weighted_longitude_day_1_following \"\n",
    "#           \"area_weighted_latitude_day_1_leading area_weighted_latitude_day_1_following \"\n",
    "#           \"area_leading area_following area_weighted_longitude_day_2_leading \" \n",
    "#           \"area_weighted_longitude_day_2_following delta_tilt\").split()\n",
    "\n",
    "# header = (\"jd n_spots_leading n_spots_following n_spots_day_1 n_spots_day_2 \"\n",
    "#           \"rotation_rate latitude_drift latitude_day_1 latitude_day_2 longitude_day_1 \"\n",
    "#           \"longitude_day_2 area_day_1 area_day_2 group_latitude_day_1 group_longitude_day_1 \"\n",
    "#           \"group_area_day_1 group_area_day_2 polarity_day_1 polarity_change tilt_day_1 tilt_day_2 \"\n",
    "#           \"group_rotation_rate group_latitude_drift\").split()\n",
    "\n",
    "# for path in paths:\n",
    "#     f = open(path).read().splitlines()\n",
    "\n",
    "#     n_rows = len(f) // 3\n",
    "#     n_columns = 23#18\n",
    "#     yearly_array = np.zeros((n_rows, n_columns))\n",
    "\n",
    "#     for i in range(n_rows):\n",
    "#         # First five ints specify time, afterwards specify sunspot data\n",
    "#         int_list = split_interval(f[0+i*3][:18], 2, int)\n",
    "#         month, day, year_minus_1900, hour, minute = int_list[:5]\n",
    "#         year = year_minus_1900 + 1900\n",
    "#         jd = Time(\"{year:d}-{month:02d}-{day:02d} {hour:02d}:{minute:02d}\"\n",
    "#                   .format(**locals())).jd\n",
    "#         row = [jd] + int_list[5:] + split_interval(f[1+i*3], 7) + split_interval(f[2+i*3][1:], 7)\n",
    "#         yearly_array[i, :] = row\n",
    "\n",
    "#     all_years_array.append(yearly_array)\n",
    "\n",
    "# table = Table(np.vstack(all_years_array), names=header)\n",
    "\n",
    "paths = glob('/local/tmp/Mt_Wilson_Tilt/*/gspot??.dat')\n",
    "\n",
    "from astropy.time import Time\n",
    "import astropy.units as u\n",
    "import string\n",
    "from astropy.table import Table\n",
    "\n",
    "def split_interval(string, n, cast_to_type=float):\n",
    "    return [cast_to_type(string[i:i+n]) for i in range(0, len(string), n)]\n",
    "\n",
    "base_time = Time('1915-01-01')\n",
    "all_years_array = []\n",
    "\n",
    "header = (\"jd n_spots_leading n_spots_following n_spots_day_1 n_spots_day_2 \"\n",
    "          \"rotation_rate latitude_drift area_weighted_latitude_day_1 area_weighted_longitude_day_1 \"\n",
    "          \"area_weighted_longitude_day_2 area_day_1 area_day_2 tilt_day_1 delta_polarity_separation \"\n",
    "          \"area_weighted_longitude_day_1_leading area_weighted_longitude_day_1_following \"\n",
    "          \"area_weighted_latitude_day_1_leading area_weighted_latitude_day_1_following \"\n",
    "          \"area_leading area_following area_weighted_longitude_day_2_leading \" \n",
    "          \"area_weighted_longitude_day_2_following delta_tilt\").split()\n",
    "\n",
    "for path in paths:\n",
    "    f = open(path).read().splitlines()\n",
    "\n",
    "    n_rows = len(f) // 3\n",
    "    n_columns = 23\n",
    "    yearly_array = np.zeros((n_rows, n_columns))\n",
    "\n",
    "    for i in range(n_rows):\n",
    "        # First five ints specify time, afterwards specify sunspot data\n",
    "        int_list = split_interval(f[0+i*3][:18], 2, int)\n",
    "        month, day, year_minus_1900, hour, minute = int_list[:5]\n",
    "        year = year_minus_1900 + 1900\n",
    "        jd = Time(\"{year:d}-{month:02d}-{day:02d} {hour:02d}:{minute:02d}\"\n",
    "                  .format(**locals())).jd\n",
    "        row = [jd] + int_list[5:] + split_interval(f[1+i*3], 7) + split_interval(f[2+i*3][1:], 7)\n",
    "        yearly_array[i, :] = row\n",
    "\n",
    "    all_years_array.append(yearly_array)\n",
    "\n",
    "table = Table(np.vstack(all_years_array), names=header)"
   ]
  },
  {
   "cell_type": "code",
   "execution_count": 11,
   "metadata": {
    "collapsed": false
   },
   "outputs": [
    {
     "data": {
      "text/html": [
       "&lt;Table length=36355&gt;\n",
       "<table id=\"table139980766634840\" class=\"table-striped table-bordered table-condensed\">\n",
       "<thead><tr><th>jd</th><th>n_spots_leading</th><th>n_spots_following</th><th>n_spots_day_1</th><th>n_spots_day_2</th><th>rotation_rate</th><th>latitude_drift</th><th>area_weighted_latitude_day_1</th><th>area_weighted_longitude_day_1</th><th>area_weighted_longitude_day_2</th><th>area_day_1</th><th>area_day_2</th><th>tilt_day_1</th><th>delta_polarity_separation</th><th>area_weighted_longitude_day_1_leading</th><th>area_weighted_longitude_day_1_following</th><th>area_weighted_latitude_day_1_leading</th><th>area_weighted_latitude_day_1_following</th><th>area_leading</th><th>area_following</th><th>area_weighted_longitude_day_2_leading</th><th>area_weighted_longitude_day_2_following</th><th>delta_tilt</th></tr></thead>\n",
       "<thead><tr><th>float64</th><th>float64</th><th>float64</th><th>float64</th><th>float64</th><th>float64</th><th>float64</th><th>float64</th><th>float64</th><th>float64</th><th>float64</th><th>float64</th><th>float64</th><th>float64</th><th>float64</th><th>float64</th><th>float64</th><th>float64</th><th>float64</th><th>float64</th><th>float64</th><th>float64</th><th>float64</th></tr></thead>\n",
       "<tr><td>2435473.76042</td><td>2.0</td><td>2.0</td><td>4.0</td><td>7.0</td><td>12.809</td><td>0.622</td><td>-20.883</td><td>-21.027</td><td>-9.074</td><td>9.632</td><td>5.72</td><td>-11.832</td><td>-0.773</td><td>-20.94</td><td>-23.262</td><td>-20.9</td><td>-20.446</td><td>9.272</td><td>0.36</td><td>-8.513</td><td>-9.65</td><td>54.69</td></tr>\n",
       "<tr><td>2435473.76042</td><td>6.0</td><td>6.0</td><td>12.0</td><td>3.0</td><td>16.504</td><td>0.332</td><td>26.342</td><td>16.924</td><td>32.611</td><td>39.899</td><td>4.611</td><td>33.501</td><td>-2.677</td><td>18.368</td><td>14.429</td><td>25.485</td><td>27.822</td><td>25.272</td><td>14.627</td><td>33.121</td><td>32.393</td><td>31.78</td></tr>\n",
       "<tr><td>2435474.75</td><td>3.0</td><td>4.0</td><td>7.0</td><td>5.0</td><td>13.555</td><td>-0.731</td><td>-21.512</td><td>-9.074</td><td>3.527</td><td>5.72</td><td>13.079</td><td>42.861</td><td>-0.056</td><td>-8.513</td><td>-9.65</td><td>-21.027</td><td>-22.01</td><td>2.896</td><td>2.823</td><td>3.845</td><td>3.034</td><td>14.03</td></tr>\n",
       "<tr><td>2435474.75</td><td>1.0</td><td>2.0</td><td>3.0</td><td>13.0</td><td>13.498</td><td>0.131</td><td>26.677</td><td>32.611</td><td>45.155</td><td>4.611</td><td>22.136</td><td>65.282</td><td>1.745</td><td>33.121</td><td>32.393</td><td>25.686</td><td>27.099</td><td>1.378</td><td>3.233</td><td>46.471</td><td>42.776</td><td>-67.6</td></tr>\n",
       "<tr><td>2435475.74722</td><td>3.0</td><td>2.0</td><td>5.0</td><td>8.0</td><td>13.743</td><td>0.243</td><td>-20.779</td><td>3.527</td><td>15.812</td><td>13.079</td><td>4.114</td><td>56.895</td><td>-0.409</td><td>3.845</td><td>3.034</td><td>-20.323</td><td>-21.486</td><td>7.948</td><td>5.131</td><td>16.224</td><td>15.483</td><td>-11.79</td></tr>\n",
       "<tr><td>2435475.74722</td><td>1.0</td><td>3.0</td><td>4.0</td><td>3.0</td><td>13.292</td><td>0.398</td><td>-14.804</td><td>-20.598</td><td>-8.747</td><td>3.575</td><td>1.708</td><td>14.156</td><td>-0.21</td><td>-20.303</td><td>-22.941</td><td>-14.732</td><td>-15.375</td><td>3.175</td><td>0.4</td><td>-7.283</td><td>-9.772</td><td>-6.97</td></tr>\n",
       "<tr><td>2435475.74722</td><td>3.0</td><td>1.0</td><td>4.0</td><td>4.0</td><td>16.365</td><td>-0.807</td><td>28.521</td><td>26.902</td><td>41.711</td><td>8.89</td><td>1.974</td><td>24.499</td><td>-1.322</td><td>27.606</td><td>24.954</td><td>28.24</td><td>29.302</td><td>6.531</td><td>2.359</td><td>42.222</td><td>41.283</td><td>23.4</td></tr>\n",
       "<tr><td>2435475.74722</td><td>2.0</td><td>11.0</td><td>13.0</td><td>7.0</td><td>14.909</td><td>-0.398</td><td>26.809</td><td>45.155</td><td>58.562</td><td>22.136</td><td>9.761</td><td>-2.317</td><td>3.123</td><td>46.471</td><td>42.776</td><td>26.856</td><td>26.723</td><td>14.254</td><td>7.882</td><td>60.39</td><td>53.283</td><td>10.14</td></tr>\n",
       "<tr><td>2435476.78542</td><td>3.0</td><td>5.0</td><td>8.0</td><td>4.0</td><td>14.445</td><td>-1.112</td><td>-21.013</td><td>15.812</td><td>29.512</td><td>4.114</td><td>6.842</td><td>45.104</td><td>-0.457</td><td>16.224</td><td>15.483</td><td>-20.627</td><td>-21.321</td><td>1.825</td><td>2.289</td><td>29.568</td><td>29.139</td><td>-5.8</td></tr>\n",
       "<tr><td>2435476.78542</td><td>6.0</td><td>2.0</td><td>8.0</td><td>5.0</td><td>14.406</td><td>-0.432</td><td>-24.64</td><td>5.304</td><td>18.964</td><td>5.664</td><td>9.349</td><td>15.882</td><td>3.882</td><td>5.763</td><td>5.037</td><td>-24.521</td><td>-24.709</td><td>2.083</td><td>3.581</td><td>22.392</td><td>18.212</td><td>17.53</td></tr>\n",
       "<tr><td>...</td><td>...</td><td>...</td><td>...</td><td>...</td><td>...</td><td>...</td><td>...</td><td>...</td><td>...</td><td>...</td><td>...</td><td>...</td><td>...</td><td>...</td><td>...</td><td>...</td><td>...</td><td>...</td><td>...</td><td>...</td><td>...</td><td>...</td></tr>\n",
       "<tr><td>2438356.81667</td><td>0.0</td><td>0.0</td><td>1.0</td><td>1.0</td><td>14.301</td><td>-0.577</td><td>8.609</td><td>-48.472</td><td>-34.231</td><td>3.449</td><td>3.443</td><td>0.0</td><td>0.0</td><td>0.0</td><td>0.0</td><td>0.0</td><td>0.0</td><td>0.0</td><td>0.0</td><td>0.0</td><td>0.0</td><td>0.0</td></tr>\n",
       "<tr><td>2438356.81667</td><td>0.0</td><td>0.0</td><td>1.0</td><td>2.0</td><td>14.943</td><td>-0.602</td><td>14.164</td><td>13.606</td><td>28.534</td><td>3.256</td><td>1.381</td><td>0.0</td><td>0.0</td><td>0.0</td><td>0.0</td><td>0.0</td><td>0.0</td><td>0.0</td><td>0.0</td><td>0.0</td><td>28.525</td><td>0.0</td></tr>\n",
       "<tr><td>2438357.74653</td><td>1.0</td><td>2.0</td><td>3.0</td><td>1.0</td><td>13.557</td><td>-0.198</td><td>6.749</td><td>-23.445</td><td>-10.418</td><td>5.59</td><td>9.383</td><td>-8.189</td><td>-0.652</td><td>-23.074</td><td>-23.724</td><td>6.802</td><td>6.71</td><td>2.394</td><td>3.197</td><td>0.0</td><td>0.0</td><td>0.0</td></tr>\n",
       "<tr><td>2438357.74653</td><td>0.0</td><td>0.0</td><td>1.0</td><td>1.0</td><td>13.562</td><td>-0.84</td><td>7.992</td><td>-34.231</td><td>-21.199</td><td>3.443</td><td>5.57</td><td>0.0</td><td>0.0</td><td>0.0</td><td>0.0</td><td>0.0</td><td>0.0</td><td>0.0</td><td>0.0</td><td>0.0</td><td>0.0</td><td>0.0</td></tr>\n",
       "<tr><td>2438358.71042</td><td>0.0</td><td>0.0</td><td>1.0</td><td>2.0</td><td>12.452</td><td>-0.03</td><td>6.544</td><td>-10.418</td><td>-0.217</td><td>9.383</td><td>1.811</td><td>0.0</td><td>0.0</td><td>0.0</td><td>0.0</td><td>0.0</td><td>0.0</td><td>0.0</td><td>0.0</td><td>0.0</td><td>-0.221</td><td>0.0</td></tr>\n",
       "<tr><td>2438359.82083</td><td>1.0</td><td>1.0</td><td>2.0</td><td>1.0</td><td>12.24</td><td>2.96</td><td>3.169</td><td>-10.375</td><td>4.289</td><td>1.766</td><td>10.112</td><td>-41.862</td><td>-1.288</td><td>-10.002</td><td>-10.963</td><td>3.502</td><td>2.643</td><td>1.081</td><td>0.685</td><td>0.0</td><td>0.0</td><td>0.0</td></tr>\n",
       "<tr><td>2438359.82083</td><td>1.0</td><td>1.0</td><td>2.0</td><td>4.0</td><td>12.623</td><td>0.116</td><td>6.517</td><td>-0.217</td><td>14.946</td><td>1.811</td><td>6.75</td><td>61.223</td><td>1.141</td><td>-0.071</td><td>-0.221</td><td>6.253</td><td>6.525</td><td>0.05</td><td>1.761</td><td>15.548</td><td>14.142</td><td>-45.55</td></tr>\n",
       "<tr><td>2438369.78264</td><td>0.0</td><td>0.0</td><td>1.0</td><td>2.0</td><td>12.444</td><td>2.462</td><td>-8.693</td><td>2.024</td><td>14.527</td><td>5.527</td><td>9.309</td><td>0.0</td><td>0.0</td><td>0.0</td><td>0.0</td><td>0.0</td><td>0.0</td><td>0.0</td><td>0.0</td><td>0.0</td><td>14.132</td><td>0.0</td></tr>\n",
       "<tr><td>2438369.78264</td><td>2.0</td><td>2.0</td><td>4.0</td><td>1.0</td><td>12.687</td><td>2.099</td><td>-7.802</td><td>-4.42</td><td>8.349</td><td>1.326</td><td>0.531</td><td>27.044</td><td>-0.639</td><td>-3.925</td><td>-4.5</td><td>-7.551</td><td>-7.842</td><td>0.183</td><td>1.143</td><td>0.0</td><td>0.0</td><td>0.0</td></tr>\n",
       "<tr><td>2438370.69167</td><td>1.0</td><td>1.0</td><td>2.0</td><td>2.0</td><td>16.506</td><td>-2.848</td><td>-11.379</td><td>14.527</td><td>27.938</td><td>9.309</td><td>8.239</td><td>-16.2</td><td>0.043</td><td>14.688</td><td>14.132</td><td>-11.425</td><td>-11.266</td><td>6.619</td><td>2.69</td><td>28.541</td><td>27.923</td><td>16.25</td></tr>\n",
       "</table>"
      ],
      "text/plain": [
       "<Table length=36355>\n",
       "      jd      n_spots_leading ... delta_tilt\n",
       "   float64        float64     ...  float64  \n",
       "------------- --------------- ... ----------\n",
       "2435473.76042             2.0 ...      54.69\n",
       "2435473.76042             6.0 ...      31.78\n",
       "   2435474.75             3.0 ...      14.03\n",
       "   2435474.75             1.0 ...      -67.6\n",
       "2435475.74722             3.0 ...     -11.79\n",
       "2435475.74722             1.0 ...      -6.97\n",
       "2435475.74722             3.0 ...       23.4\n",
       "2435475.74722             2.0 ...      10.14\n",
       "2435476.78542             3.0 ...       -5.8\n",
       "2435476.78542             6.0 ...      17.53\n",
       "          ...             ... ...        ...\n",
       "2438356.81667             0.0 ...        0.0\n",
       "2438356.81667             0.0 ...        0.0\n",
       "2438357.74653             1.0 ...        0.0\n",
       "2438357.74653             0.0 ...        0.0\n",
       "2438358.71042             0.0 ...        0.0\n",
       "2438359.82083             1.0 ...        0.0\n",
       "2438359.82083             1.0 ...     -45.55\n",
       "2438369.78264             0.0 ...        0.0\n",
       "2438369.78264             2.0 ...        0.0\n",
       "2438370.69167             1.0 ...      16.25"
      ]
     },
     "execution_count": 11,
     "metadata": {},
     "output_type": "execute_result"
    }
   ],
   "source": [
    "table"
   ]
  },
  {
   "cell_type": "code",
   "execution_count": 48,
   "metadata": {
    "collapsed": false,
    "scrolled": false
   },
   "outputs": [
    {
     "data": {
      "image/png": "[encoded data removed]",
      "text/plain": [
       "<matplotlib.figure.Figure at 0x7f4fcc578470>"
      ]
     },
     "metadata": {},
     "output_type": "display_data"
    }
   ],
   "source": [
    "import sys\n",
    "sys.path.insert(0, '/astro/users/bmmorris/git/friedrich/')\n",
    "from friedrich.stsp import STSP\n",
    "from friedrich.lightcurve import LightCurve, hat11_params_morris_experiment, hat11_params_morris\n",
    "\n",
    "class Spot(object):\n",
    "    def __init__(self, r, theta, phi):\n",
    "        self.r = r\n",
    "        self.theta = theta\n",
    "        self.phi = phi\n",
    "        \n",
    "def spot_list_to_spot_params(spot_list):\n",
    "    spot_params = []\n",
    "    for spot in spot_list:\n",
    "        spot_params.extend([spot.r, spot.theta, spot.phi])\n",
    "    return spot_params\n",
    "\n",
    "def find_overlapping_spots(spot_list):\n",
    "    # starting from MCMCResults.find_overlapping_spots\n",
    "    overlapping_pairs = []\n",
    "    spots_with_overlap = []\n",
    "    for i in range(len(spot_list)):\n",
    "        for j in range(len(spot_list)):\n",
    "            if i < j:\n",
    "                sep = np.arccos(np.cos(spot_list[i].theta) * np.cos(spot_list[j].theta) + \n",
    "                                np.sin(spot_list[i].theta) * np.sin(spot_list[j].theta) * \n",
    "                                np.cos(spot_list[i].phi - spot_list[j].phi))\n",
    "                if sep < 1.01 * (spot_list[i].r + spot_list[j].r):\n",
    "                    overlapping_pairs.append((i, j))\n",
    "\n",
    "                    if i not in spots_with_overlap:\n",
    "                        spots_with_overlap.append(i)\n",
    "                    if j not in spots_with_overlap:\n",
    "                        spots_with_overlap.append(j)\n",
    "\n",
    "    spots_without_overlap = [spot for i, spot in enumerate(spot_list)\n",
    "                             if i not in spots_with_overlap]\n",
    "    return overlapping_pairs, spots_with_overlap, spots_without_overlap\n",
    "\n",
    "transit_params = hat11_params_morris() #hat11_params_morris_experiment()\n",
    "# transit_params.inc_stellar = 120\n",
    "\n",
    "times = Time(np.arange(transit_params.t0 - 0.06, \n",
    "                       transit_params.t0 + 0.06, 1./60/24), format='jd')\n",
    "lc = LightCurve(times=times, fluxes=np.ones(len(times)), errors=np.ones(len(times)))\n",
    "\n",
    "n_days = int(4 * 365/5)\n",
    "#n_days = 10\n",
    "\n",
    "bigfig, bigax = plt.subplots()\n",
    "\n",
    "for n in range(n_days):\n",
    "    start_time = Time('1960-01-01') + n*5*u.day\n",
    "    end_time = start_time + 1*u.day# Time('1947-04-09')\n",
    "\n",
    "    time_range = (table['jd'] < end_time.jd) & (table['jd'] > start_time.jd)\n",
    "    spots_within_range = table[time_range]\n",
    "\n",
    "    penumbra_to_umbra_area_ratio = 4.0\n",
    "    \n",
    "    area = penumbra_to_umbra_area_ratio * 1e-6 * spots_within_range['area_day_1'].data\n",
    "    #r = np.arctan(np.sqrt(2 * area))\n",
    "    radii = np.sqrt(2 * area)\n",
    "\n",
    "    phis = np.radians(spots_within_range['area_weighted_longitude_day_1'].data)\n",
    "    phis[phis < 0] += 2*np.pi\n",
    "    \n",
    "    thetas = np.radians(90 - spots_within_range['area_weighted_latitude_day_1'].data)\n",
    "\n",
    "    spots = [Spot(r, theta, phi) for r, theta, phi in zip(radii, thetas, phis)]\n",
    "    #print(spots_within_range)\n",
    "    overlapping_pairs, spots_with_overlap, spots_without_overlap = find_overlapping_spots(spots)\n",
    "    while len(overlapping_pairs) > 0:\n",
    "        print(overlapping_pairs)\n",
    "        \n",
    "        for spot_pair in overlapping_pairs:\n",
    "            spot_a = spots[spot_pair[0]]\n",
    "            spot_b = spots[spot_pair[1]]\n",
    "            mean_theta = 0.5 * (spot_a.theta + spot_b.theta)\n",
    "            mean_phi = 0.5 * (spot_a.phi + spot_b.phi)\n",
    "            total_area = np.pi * (spot_a.r**2 + spot_b.r**2)\n",
    "            total_r = np.sqrt(total_area/np.pi)\n",
    "        \n",
    "            new_spot = Spot(total_r, mean_theta, mean_phi)\n",
    "            spots_without_overlap.append(new_spot)\n",
    "            \n",
    "        overlapping_pairs, spots_with_overlap, spots_without_overlap = find_overlapping_spots(spots_without_overlap)\n",
    "\n",
    "    spot_params = spot_list_to_spot_params(spots_without_overlap)\n",
    "    #print(len(spots_without_overlap))\n",
    "\n",
    "    if len(spot_params) > 0:\n",
    "        spot_params = np.array(spot_params)                \n",
    "    else:\n",
    "        spot_params = np.array([0.00001, 3*np.pi/2, np.pi/2])\n",
    "\n",
    "    # fig, ax = plt.subplots()\n",
    "    # ax.plot(np.degrees(phi) - 180, np.degrees(theta) - 90,'o')\n",
    "    # plt.show()\n",
    "    s = STSP(lc, transit_params, spot_params)\n",
    "    t, f = s.stsp_lc()\n",
    "\n",
    "    #typical_hat11_err = 0#4.63754918255e-05\n",
    "    #f += typical_hat11_err * np.random.randn(len(f))\n",
    "\n",
    "    phase = ((t - transit_params.t0) % transit_params.per) / transit_params.per\n",
    "    phase[phase > 0.5] -= 1\n",
    "    # print(start_time.datetime.date())\n",
    "\n",
    "\n",
    "    if len(spot_params)/3 > 1:\n",
    "\n",
    "        fig, ax = plt.subplots() # plt.figure()\n",
    "        ax.set_title('{0}, N={1}'.format(start_time.datetime.date(), len(spot_params)/3))\n",
    "        ax.plot(phase, f, 'k.')\n",
    "        # plt.plot(phase, f, 'r')\n",
    "        ax.set_xlabel('Phase')\n",
    "        ax.set_ylabel('Flux')\n",
    "        ax.set_ylim([0.9953, 1.0005])\n",
    "        fig.savefig('/astro/users/bmmorris/git/starspots/sun/tmp/{0}.png'.format(start_time.datetime.date()), \n",
    "                    bbox_inches='tight', dpi=100)\n",
    "        plt.close()\n",
    "\n",
    "        bigax.plot(phase, f, 'k.', alpha=0.4)\n",
    "\n",
    "\n",
    "#         plt.show()"
   ]
  },
  {
   "cell_type": "code",
   "execution_count": 63,
   "metadata": {
    "collapsed": false
   },
   "outputs": [
    {
     "name": "stderr",
     "output_type": "stream",
     "text": [
      "/astro/apps6/anaconda2.0/envs/py3/lib/python3.5/site-packages/astropy/time/core.py:790: VisibleDeprecationWarning: converting an array with ndim > 0 to an index will result in an error in the future\n",
      "  jd1 = getattr(jd1, method)(*args, **kwargs)\n",
      "/astro/apps6/anaconda2.0/envs/py3/lib/python3.5/site-packages/astropy/time/core.py:791: VisibleDeprecationWarning: converting an array with ndim > 0 to an index will result in an error in the future\n",
      "  jd2 = getattr(jd2, method)(*args, **kwargs)\n",
      "/astro/users/bmmorris/git/friedrich/friedrich/lightcurve.py:862: VisibleDeprecationWarning: converting an array with ndim > 0 to an index will result in an error in the future\n",
      "  fluxes=self.fluxes[start_ind:end_ind],\n",
      "/astro/users/bmmorris/git/friedrich/friedrich/lightcurve.py:863: VisibleDeprecationWarning: converting an array with ndim > 0 to an index will result in an error in the future\n",
      "  errors=self.errors[start_ind:end_ind],\n",
      "/astro/users/bmmorris/git/friedrich/friedrich/lightcurve.py:864: VisibleDeprecationWarning: converting an array with ndim > 0 to an index will result in an error in the future\n",
      "  quarters=self.quarters[start_ind:end_ind],\n"
     ]
    }
   ],
   "source": [
    "import sys, os\n",
    "sys.path.append('/astro/users/bmmorris/git/friedrich')\n",
    "from glob import glob\n",
    "\n",
    "from friedrich.lightcurve import (LightCurve, hat11_params_morris,\n",
    "                                  generate_lc_depth)\n",
    "from friedrich.fitting import peak_finder, summed_gaussians, run_emcee_seeded\n",
    "from scipy.ndimage import gaussian_filter\n",
    "import numpy as np\n",
    "\n",
    "# on mist\n",
    "light_curve_paths = glob('/local/tmp/hat11/*slc.fits')\n",
    "output_dir = os.path.abspath('./')\n",
    "\n",
    "hat11_oot_params = hat11_params_morris()\n",
    "hat11_oot_params.t0 += 0.25 * hat11_oot_params.per\n",
    "\n",
    "# Construct light curve object from the raw data\n",
    "whole_lc = LightCurve.from_raw_fits(light_curve_paths, name='HAT11')\n",
    "transits = LightCurve(**whole_lc.mask_out_of_transit(hat11_oot_params, \n",
    "                                                     oot_duration_fraction=0.5)\n",
    "                      ).get_transit_light_curves(hat11_oot_params)\n",
    "\n",
    "# Compute maxes for each quarter\n",
    "available_quarters = whole_lc.get_available_quarters()\n",
    "quarters = [whole_lc.get_quarter(q) for q in whole_lc.get_available_quarters()]\n",
    "\n",
    "quarterly_maxes = {}\n",
    "set_upper_limit = 4e10\n",
    "for i, quarter_number, lc in zip(range(len(available_quarters)),\n",
    "                                 available_quarters, quarters):\n",
    "    fluxes = lc.fluxes[lc.fluxes < set_upper_limit]\n",
    "    smoothed_fluxes = gaussian_filter(fluxes, sigma=20)\n",
    "    quarterly_maxes[quarter_number] = np.max(smoothed_fluxes)"
   ]
  },
  {
   "cell_type": "code",
   "execution_count": 64,
   "metadata": {
    "collapsed": false
   },
   "outputs": [],
   "source": [
    "# Read from command line argument\n",
    "transit_number = 30\n",
    "lc = transits[transit_number]\n",
    "\n",
    "lc.subtract_add_divide_without_outliers(params=hat11_params,\n",
    "                                        quarterly_max=quarterly_maxes[lc.quarters[0]],\n",
    "                                        plots=False)"
   ]
  },
  {
   "cell_type": "code",
   "execution_count": 65,
   "metadata": {
    "collapsed": false
   },
   "outputs": [
    {
     "data": {
      "image/png": "[encoded data removed]",
      "text/plain": [
       "<matplotlib.figure.Figure at 0x7f4fce2d57b8>"
      ]
     },
     "metadata": {},
     "output_type": "display_data"
    }
   ],
   "source": [
    "lc.plot()"
   ]
  },
  {
   "cell_type": "code",
   "execution_count": 66,
   "metadata": {
    "collapsed": false
   },
   "outputs": [
    {
     "data": {
      "text/plain": [
       "[<matplotlib.lines.Line2D at 0x7f4fcbcf3f98>]"
      ]
     },
     "execution_count": 66,
     "metadata": {},
     "output_type": "execute_result"
    },
    {
     "data": {
      "image/png": "[encoded data removed]",
      "text/plain": [
       "<matplotlib.figure.Figure at 0x7f4fcfb75518>"
      ]
     },
     "metadata": {},
     "output_type": "display_data"
    }
   ],
   "source": [
    "plt.plot(t, f * lc.fluxes[:len(t)], '.')"
   ]
  },
  {
   "cell_type": "code",
   "execution_count": null,
   "metadata": {
    "collapsed": true
   },
   "outputs": [],
   "source": []
  }
 ],
 "metadata": {
  "anaconda-cloud": {},
  "kernelspec": {
   "display_name": "Python 3",
   "language": "python",
   "name": "python3"
  },
  "language_info": {
   "codemirror_mode": {
    "name": "ipython",
    "version": 3
   },
   "file_extension": ".py",
   "mimetype": "text/x-python",
   "name": "python",
   "nbconvert_exporter": "python",
   "pygments_lexer": "ipython3",
   "version": "3.5.2"
  }
 },
 "nbformat": 4,
 "nbformat_minor": 0
}

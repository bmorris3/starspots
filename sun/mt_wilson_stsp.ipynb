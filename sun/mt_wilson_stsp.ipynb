{
 "cells": [
  {
   "cell_type": "markdown",
   "metadata": {},
   "source": [
    "# Mt Wilson Sunspot database 1917-1985\n",
    "\n",
    "From the readme: \n",
    "\n",
    "> Sunspot umbral position and area information were digitized from the Mount Wilson daily white-light solar images some years ago (Howard, Gilman, and Gilman, 1984). These photographic images exist in a series that extends from 1917 through the present time. The digitized data extend from 1917 through 1985. Details about the observations, the measurement procedure, and the analysis techniques used earlier may be obtained from the earlier reference (Howard, Gilman, and Gilman, 1984).\n",
    "\n",
    "These data were first published in [Howard, Gilman, and Gilman, 1984](http://adsabs.harvard.edu/abs/1984ApJ...283..373H). The data are accessible online [here](http://www.ngdc.noaa.gov/stp/solar/sunspotregionsdata.html)."
   ]
  },
  {
   "cell_type": "code",
   "execution_count": 1,
   "metadata": {
    "collapsed": true
   },
   "outputs": [],
   "source": [
    "%matplotlib inline\n",
    "import numpy as np\n",
    "import matplotlib.pyplot as plt\n",
    "from glob import glob\n",
    "\n",
    "#paths = glob('/Users/bmmorris/data/Mt_Wilson_Tilt/*/sspot??.dat')\n",
    "paths = glob('/local/tmp/Mt_Wilson_Tilt/*/sspot??.dat')\n",
    "\n",
    "from astropy.time import Time\n",
    "import astropy.units as u\n",
    "import string\n",
    "from astropy.table import Table"
   ]
  },
  {
   "cell_type": "code",
   "execution_count": 2,
   "metadata": {
    "collapsed": false
   },
   "outputs": [
    {
     "name": "stderr",
     "output_type": "stream",
     "text": [
      "WARNING: ErfaWarning: ERFA function \"dtf2d\" yielded 1 of \"dubious year (Note 6)\" [astropy._erfa.core]\n"
     ]
    }
   ],
   "source": [
    "def split_interval(string, n, cast_to_type=float):\n",
    "    return [cast_to_type(string[i:i+n]) for i in range(0, len(string), n)]\n",
    "\n",
    "all_years_array = []\n",
    "\n",
    "header = (\"jd n_spots_leading n_spots_following n_spots_day_1 n_spots_day_2 \"\n",
    "          \"rotation_rate latitude_drift area_weighted_latitude_day_1 area_weighted_longitude_day_1 \"\n",
    "          \"area_weighted_longitude_day_2 area_day_1 area_day_2 tilt_day_1 delta_polarity_separation \"\n",
    "          \"area_weighted_longitude_day_1_leading area_weighted_longitude_day_1_following \"\n",
    "          \"area_weighted_latitude_day_1_leading area_weighted_latitude_day_1_following \"\n",
    "          \"area_leading area_following area_weighted_longitude_day_2_leading \" \n",
    "          \"area_weighted_longitude_day_2_following delta_tilt\").split()\n",
    "\n",
    "header = (\"jd n_spots_leading n_spots_following n_spots_day_1 n_spots_day_2 \"\n",
    "          \"rotation_rate latitude_drift latitude_day_1 latitude_day_2 longitude_day_1 \"\n",
    "          \"longitude_day_2 area_day_1 area_day_2 group_latitude_day_1 group_longitude_day_1 \"\n",
    "          \"group_area_day_1 group_area_day_2 polarity_day_1 polarity_change tilt_day_1 tilt_day_2 \"\n",
    "          \"group_rotation_rate group_latitude_drift\").split()\n",
    "\n",
    "for path in paths:\n",
    "    f = open(path).read().splitlines()\n",
    "\n",
    "    n_rows = len(f) // 3\n",
    "    n_columns = 23#18\n",
    "    yearly_array = np.zeros((n_rows, n_columns))\n",
    "\n",
    "    for i in range(n_rows):\n",
    "        # First five ints specify time, afterwards specify sunspot data\n",
    "        int_list = split_interval(f[0+i*3][:18], 2, int)\n",
    "        month, day, year_minus_1900, hour, minute = int_list[:5]\n",
    "        year = year_minus_1900 + 1900\n",
    "        jd = Time(\"{year:d}-{month:02d}-{day:02d} {hour:02d}:{minute:02d}\"\n",
    "                  .format(**locals())).jd\n",
    "        row = [jd] + int_list[5:] + split_interval(f[1+i*3], 7) + split_interval(f[2+i*3][1:], 7)\n",
    "        yearly_array[i, :] = row\n",
    "\n",
    "    all_years_array.append(yearly_array)\n",
    "\n",
    "table = Table(np.vstack(all_years_array), names=header)"
   ]
  },
  {
   "cell_type": "code",
   "execution_count": 3,
   "metadata": {
    "collapsed": false
   },
   "outputs": [
    {
     "data": {
      "text/html": [
       "&lt;Table length=110288&gt;\n",
       "<table id=\"table139981768674552\" class=\"table-striped table-bordered table-condensed\">\n",
       "<thead><tr><th>jd</th><th>n_spots_leading</th><th>n_spots_following</th><th>n_spots_day_1</th><th>n_spots_day_2</th><th>rotation_rate</th><th>latitude_drift</th><th>latitude_day_1</th><th>latitude_day_2</th><th>longitude_day_1</th><th>longitude_day_2</th><th>area_day_1</th><th>area_day_2</th><th>group_latitude_day_1</th><th>group_longitude_day_1</th><th>group_area_day_1</th><th>group_area_day_2</th><th>polarity_day_1</th><th>polarity_change</th><th>tilt_day_1</th><th>tilt_day_2</th><th>group_rotation_rate</th><th>group_latitude_drift</th></tr></thead>\n",
       "<thead><tr><th>float64</th><th>float64</th><th>float64</th><th>float64</th><th>float64</th><th>float64</th><th>float64</th><th>float64</th><th>float64</th><th>float64</th><th>float64</th><th>float64</th><th>float64</th><th>float64</th><th>float64</th><th>float64</th><th>float64</th><th>float64</th><th>float64</th><th>float64</th><th>float64</th><th>float64</th><th>float64</th></tr></thead>\n",
       "<tr><td>2435473.76042</td><td>2.0</td><td>2.0</td><td>4.0</td><td>7.0</td><td>12.138</td><td>0.66</td><td>-20.848</td><td>-21.515</td><td>-20.81</td><td>-9.536</td><td>0.673</td><td>1.197</td><td>-20.883</td><td>-21.027</td><td>9.632</td><td>5.72</td><td>2.217</td><td>-0.773</td><td>-11.832</td><td>42.861</td><td>12.809</td><td>0.62</td></tr>\n",
       "<tr><td>2435473.76042</td><td>2.0</td><td>2.0</td><td>4.0</td><td>7.0</td><td>12.277</td><td>0.604</td><td>-20.905</td><td>-21.515</td><td>-20.951</td><td>-9.536</td><td>8.599</td><td>1.197</td><td>-20.883</td><td>-21.027</td><td>9.632</td><td>5.72</td><td>2.217</td><td>-0.773</td><td>-11.832</td><td>42.861</td><td>12.809</td><td>0.62</td></tr>\n",
       "<tr><td>2435473.76042</td><td>6.0</td><td>6.0</td><td>12.0</td><td>3.0</td><td>14.749</td><td>0.283</td><td>26.82</td><td>27.105</td><td>18.48</td><td>32.393</td><td>7.247</td><td>3.183</td><td>26.342</td><td>16.924</td><td>39.899</td><td>4.611</td><td>4.233</td><td>-2.677</td><td>33.501</td><td>65.282</td><td>16.504</td><td>0.33</td></tr>\n",
       "<tr><td>2435473.76042</td><td>6.0</td><td>6.0</td><td>12.0</td><td>3.0</td><td>14.856</td><td>0.025</td><td>25.661</td><td>25.686</td><td>19.1</td><td>33.121</td><td>5.209</td><td>1.378</td><td>26.342</td><td>16.924</td><td>39.899</td><td>4.611</td><td>4.233</td><td>-2.677</td><td>33.501</td><td>65.282</td><td>16.504</td><td>0.33</td></tr>\n",
       "<tr><td>2435473.76042</td><td>6.0</td><td>6.0</td><td>12.0</td><td>3.0</td><td>14.462</td><td>0.218</td><td>25.466</td><td>25.686</td><td>19.499</td><td>33.121</td><td>4.205</td><td>1.378</td><td>26.342</td><td>16.924</td><td>39.899</td><td>4.611</td><td>4.233</td><td>-2.677</td><td>33.501</td><td>65.282</td><td>16.504</td><td>0.33</td></tr>\n",
       "<tr><td>2435473.76042</td><td>6.0</td><td>6.0</td><td>12.0</td><td>3.0</td><td>14.041</td><td>0.266</td><td>25.417</td><td>25.686</td><td>19.924</td><td>33.121</td><td>0.05</td><td>1.378</td><td>26.342</td><td>16.924</td><td>39.899</td><td>4.611</td><td>4.233</td><td>-2.677</td><td>33.501</td><td>65.282</td><td>16.504</td><td>0.33</td></tr>\n",
       "<tr><td>2435474.75</td><td>3.0</td><td>4.0</td><td>7.0</td><td>5.0</td><td>13.592</td><td>0.048</td><td>-21.515</td><td>-21.563</td><td>-9.536</td><td>3.103</td><td>1.197</td><td>3.624</td><td>-21.512</td><td>-9.074</td><td>5.72</td><td>13.079</td><td>1.444</td><td>-0.056</td><td>42.861</td><td>56.895</td><td>13.555</td><td>-0.73</td></tr>\n",
       "<tr><td>2435474.75</td><td>3.0</td><td>4.0</td><td>7.0</td><td>5.0</td><td>13.625</td><td>0.052</td><td>-21.247</td><td>-21.299</td><td>-9.803</td><td>2.869</td><td>0.214</td><td>1.508</td><td>-21.512</td><td>-9.074</td><td>5.72</td><td>13.079</td><td>1.444</td><td>-0.056</td><td>42.861</td><td>56.895</td><td>13.555</td><td>-0.73</td></tr>\n",
       "<tr><td>2435474.75</td><td>3.0</td><td>4.0</td><td>7.0</td><td>5.0</td><td>13.35</td><td>-0.18</td><td>-20.795</td><td>-20.614</td><td>-8.7</td><td>3.696</td><td>0.75</td><td>2.933</td><td>-21.512</td><td>-9.074</td><td>5.72</td><td>13.079</td><td>1.444</td><td>-0.056</td><td>42.861</td><td>56.895</td><td>13.555</td><td>-0.73</td></tr>\n",
       "<tr><td>2435474.75</td><td>3.0</td><td>4.0</td><td>7.0</td><td>5.0</td><td>13.262</td><td>-0.2</td><td>-20.405</td><td>-20.204</td><td>-8.317</td><td>3.991</td><td>1.168</td><td>3.696</td><td>-21.512</td><td>-9.074</td><td>5.72</td><td>13.079</td><td>1.444</td><td>-0.056</td><td>42.861</td><td>56.895</td><td>13.555</td><td>-0.73</td></tr>\n",
       "<tr><td>...</td><td>...</td><td>...</td><td>...</td><td>...</td><td>...</td><td>...</td><td>...</td><td>...</td><td>...</td><td>...</td><td>...</td><td>...</td><td>...</td><td>...</td><td>...</td><td>...</td><td>...</td><td>...</td><td>...</td><td>...</td><td>...</td><td>...</td></tr>\n",
       "<tr><td>2438356.81667</td><td>1.0</td><td>2.0</td><td>3.0</td><td>3.0</td><td>14.534</td><td>-0.674</td><td>7.401</td><td>6.68</td><td>-38.084</td><td>-23.593</td><td>1.971</td><td>2.671</td><td>7.469</td><td>-37.686</td><td>10.36</td><td>5.59</td><td>0.529</td><td>0.124</td><td>-8.876</td><td>-8.189</td><td>14.301</td><td>-0.67</td></tr>\n",
       "<tr><td>2438356.81667</td><td>1.0</td><td>2.0</td><td>3.0</td><td>3.0</td><td>14.812</td><td>-0.594</td><td>7.494</td><td>6.859</td><td>-39.174</td><td>-24.386</td><td>0.05</td><td>0.526</td><td>7.469</td><td>-37.686</td><td>10.36</td><td>5.59</td><td>0.529</td><td>0.124</td><td>-8.876</td><td>-8.189</td><td>14.301</td><td>-0.67</td></tr>\n",
       "<tr><td>2438356.81667</td><td>0.0</td><td>0.0</td><td>1.0</td><td>1.0</td><td>14.301</td><td>-0.577</td><td>8.609</td><td>7.992</td><td>-48.472</td><td>-34.231</td><td>3.449</td><td>3.443</td><td>8.609</td><td>-48.472</td><td>3.449</td><td>3.443</td><td>0.0</td><td>0.0</td><td>0.0</td><td>0.0</td><td>14.301</td><td>-0.58</td></tr>\n",
       "<tr><td>2438356.81667</td><td>0.0</td><td>0.0</td><td>1.0</td><td>2.0</td><td>14.934</td><td>-0.678</td><td>14.164</td><td>13.439</td><td>13.606</td><td>28.525</td><td>3.256</td><td>1.137</td><td>14.164</td><td>13.606</td><td>3.256</td><td>1.381</td><td>0.0</td><td>0.464</td><td>0.0</td><td>-83.791</td><td>14.943</td><td>-0.6</td></tr>\n",
       "<tr><td>2438357.74653</td><td>1.0</td><td>2.0</td><td>3.0</td><td>1.0</td><td>13.198</td><td>-0.249</td><td>6.802</td><td>6.544</td><td>-23.074</td><td>-10.418</td><td>2.394</td><td>9.383</td><td>6.749</td><td>-23.445</td><td>5.59</td><td>9.383</td><td>0.652</td><td>-0.652</td><td>-8.189</td><td>0.0</td><td>13.557</td><td>-0.2</td></tr>\n",
       "<tr><td>2438357.74653</td><td>1.0</td><td>2.0</td><td>3.0</td><td>1.0</td><td>13.7</td><td>-0.131</td><td>6.68</td><td>6.544</td><td>-23.593</td><td>-10.418</td><td>2.671</td><td>9.383</td><td>6.749</td><td>-23.445</td><td>5.59</td><td>9.383</td><td>0.652</td><td>-0.652</td><td>-8.189</td><td>0.0</td><td>13.557</td><td>-0.2</td></tr>\n",
       "<tr><td>2438357.74653</td><td>0.0</td><td>0.0</td><td>1.0</td><td>1.0</td><td>13.562</td><td>-0.84</td><td>7.992</td><td>7.122</td><td>-34.231</td><td>-21.199</td><td>3.443</td><td>5.57</td><td>7.992</td><td>-34.231</td><td>3.443</td><td>5.57</td><td>0.0</td><td>0.0</td><td>0.0</td><td>0.0</td><td>13.562</td><td>-0.84</td></tr>\n",
       "<tr><td>2438358.71042</td><td>0.0</td><td>0.0</td><td>1.0</td><td>2.0</td><td>12.447</td><td>-0.022</td><td>6.544</td><td>6.525</td><td>-10.418</td><td>-0.221</td><td>9.383</td><td>1.761</td><td>6.544</td><td>-10.418</td><td>9.383</td><td>1.811</td><td>0.0</td><td>0.31</td><td>0.0</td><td>61.223</td><td>12.452</td><td>-0.03</td></tr>\n",
       "<tr><td>2438359.82083</td><td>1.0</td><td>1.0</td><td>2.0</td><td>4.0</td><td>12.007</td><td>0.376</td><td>6.253</td><td>6.743</td><td>-0.071</td><td>14.289</td><td>0.05</td><td>0.65</td><td>6.517</td><td>-0.217</td><td>1.811</td><td>6.75</td><td>0.31</td><td>1.141</td><td>61.223</td><td>15.676</td><td>12.623</td><td>0.12</td></tr>\n",
       "<tr><td>2438359.82083</td><td>1.0</td><td>1.0</td><td>2.0</td><td>4.0</td><td>12.122</td><td>0.167</td><td>6.525</td><td>6.743</td><td>-0.221</td><td>14.289</td><td>1.761</td><td>0.65</td><td>6.517</td><td>-0.217</td><td>1.811</td><td>6.75</td><td>0.31</td><td>1.141</td><td>61.223</td><td>15.676</td><td>12.623</td><td>0.12</td></tr>\n",
       "</table>"
      ],
      "text/plain": [
       "<Table length=110288>\n",
       "      jd      n_spots_leading ... group_rotation_rate group_latitude_drift\n",
       "   float64        float64     ...       float64             float64       \n",
       "------------- --------------- ... ------------------- --------------------\n",
       "2435473.76042             2.0 ...              12.809                 0.62\n",
       "2435473.76042             2.0 ...              12.809                 0.62\n",
       "2435473.76042             6.0 ...              16.504                 0.33\n",
       "2435473.76042             6.0 ...              16.504                 0.33\n",
       "2435473.76042             6.0 ...              16.504                 0.33\n",
       "2435473.76042             6.0 ...              16.504                 0.33\n",
       "   2435474.75             3.0 ...              13.555                -0.73\n",
       "   2435474.75             3.0 ...              13.555                -0.73\n",
       "   2435474.75             3.0 ...              13.555                -0.73\n",
       "   2435474.75             3.0 ...              13.555                -0.73\n",
       "          ...             ... ...                 ...                  ...\n",
       "2438356.81667             1.0 ...              14.301                -0.67\n",
       "2438356.81667             1.0 ...              14.301                -0.67\n",
       "2438356.81667             0.0 ...              14.301                -0.58\n",
       "2438356.81667             0.0 ...              14.943                 -0.6\n",
       "2438357.74653             1.0 ...              13.557                 -0.2\n",
       "2438357.74653             1.0 ...              13.557                 -0.2\n",
       "2438357.74653             0.0 ...              13.562                -0.84\n",
       "2438358.71042             0.0 ...              12.452                -0.03\n",
       "2438359.82083             1.0 ...              12.623                 0.12\n",
       "2438359.82083             1.0 ...              12.623                 0.12"
      ]
     },
     "execution_count": 3,
     "metadata": {},
     "output_type": "execute_result"
    }
   ],
   "source": [
    "table"
   ]
  },
  {
   "cell_type": "code",
   "execution_count": 4,
   "metadata": {
    "collapsed": false,
    "scrolled": false
   },
   "outputs": [
    {
     "name": "stdout",
     "output_type": "stream",
     "text": [
      "6\n",
      "[(3, 4), (5, 6), (9, 10)]\n",
      "21\n",
      "0\n",
      "0\n",
      "0\n",
      "0\n",
      "0\n",
      "[(0, 1), (22, 23), (23, 24)]\n",
      "[(0, 28), (29, 30)]\n",
      "[(23, 28), (24, 28)]\n",
      "[(26, 27)]\n",
      "[(20, 26), (21, 26)]\n",
      "[(18, 25), (24, 25)]\n",
      "25\n",
      "[(1, 2), (8, 9), (10, 11), (11, 12)]\n",
      "[(19, 20)]\n",
      "20\n",
      "[(8, 9), (11, 12)]\n",
      "12\n",
      "2\n",
      "0\n",
      "0\n",
      "[(0, 1)]\n",
      "7\n",
      "[(5, 6), (6, 7)]\n",
      "[(6, 7)]\n",
      "7\n",
      "6\n",
      "[(6, 7), (10, 12)]\n",
      "[(8, 14)]\n",
      "14\n",
      "15\n",
      "[(0, 1), (4, 5), (9, 10), (13, 14)]\n",
      "12\n",
      "[(2, 3), (16, 17), (19, 20), (20, 21)]\n",
      "[(17, 18)]\n",
      "18\n",
      "[(2, 3), (5, 6)]\n",
      "[(3, 13)]\n",
      "13\n",
      "[(4, 6), (5, 6)]\n",
      "[(3, 14), (3, 15), (14, 15)]\n",
      "16\n",
      "[(2, 3), (4, 5), (14, 15)]\n",
      "17\n",
      "0\n",
      "[(2, 3), (21, 22)]\n",
      "[(1, 19)]\n",
      "20\n",
      "0\n",
      "10\n",
      "[(6, 7)]\n",
      "11\n",
      "[(0, 1), (0, 2), (0, 3), (0, 4), (1, 2), (1, 3), (2, 3), (5, 6), (11, 12), (14, 15)]\n",
      "[(8, 9), (8, 10), (8, 11), (8, 12), (8, 13), (8, 14), (9, 10), (9, 11), (9, 12), (9, 13), (9, 14), (10, 11), (10, 12), (10, 13), (10, 14), (11, 12), (11, 13), (11, 14), (12, 13), (12, 14), (13, 14)]\n",
      "[(4, 31), (9, 26), (10, 31), (11, 12), (13, 14), (13, 15), (13, 16), (14, 16), (15, 16), (18, 19), (18, 22), (18, 23), (19, 22), (19, 23), (20, 21), (20, 24), (20, 25), (21, 24), (21, 25), (22, 23), (24, 25), (27, 28), (27, 29), (27, 30), (28, 29), (28, 30), (29, 30)]\n"
     ]
    },
    {
     "ename": "IndexError",
     "evalue": "list index out of range",
     "output_type": "error",
     "traceback": [
      "\u001b[0;31m---------------------------------------------------------------------------\u001b[0m",
      "\u001b[0;31mIndexError\u001b[0m                                Traceback (most recent call last)",
      "\u001b[0;32m<ipython-input-4-b6a8c5599c24>\u001b[0m in \u001b[0;36m<module>\u001b[0;34m()\u001b[0m\n\u001b[1;32m     76\u001b[0m         \u001b[0;32mfor\u001b[0m \u001b[0mspot_pair\u001b[0m \u001b[0;32min\u001b[0m \u001b[0moverlapping_pairs\u001b[0m\u001b[0;34m:\u001b[0m\u001b[0;34m\u001b[0m\u001b[0m\n\u001b[1;32m     77\u001b[0m             \u001b[0mspot_a\u001b[0m \u001b[0;34m=\u001b[0m \u001b[0mspots\u001b[0m\u001b[0;34m[\u001b[0m\u001b[0mspot_pair\u001b[0m\u001b[0;34m[\u001b[0m\u001b[0;36m0\u001b[0m\u001b[0;34m]\u001b[0m\u001b[0;34m]\u001b[0m\u001b[0;34m\u001b[0m\u001b[0m\n\u001b[0;32m---> 78\u001b[0;31m             \u001b[0mspot_b\u001b[0m \u001b[0;34m=\u001b[0m \u001b[0mspots\u001b[0m\u001b[0;34m[\u001b[0m\u001b[0mspot_pair\u001b[0m\u001b[0;34m[\u001b[0m\u001b[0;36m1\u001b[0m\u001b[0;34m]\u001b[0m\u001b[0;34m]\u001b[0m\u001b[0;34m\u001b[0m\u001b[0m\n\u001b[0m\u001b[1;32m     79\u001b[0m             \u001b[0mmean_theta\u001b[0m \u001b[0;34m=\u001b[0m \u001b[0;36m0.5\u001b[0m \u001b[0;34m*\u001b[0m \u001b[0;34m(\u001b[0m\u001b[0mspot_a\u001b[0m\u001b[0;34m.\u001b[0m\u001b[0mtheta\u001b[0m \u001b[0;34m+\u001b[0m \u001b[0mspot_b\u001b[0m\u001b[0;34m.\u001b[0m\u001b[0mtheta\u001b[0m\u001b[0;34m)\u001b[0m\u001b[0;34m\u001b[0m\u001b[0m\n\u001b[1;32m     80\u001b[0m             \u001b[0mmean_phi\u001b[0m \u001b[0;34m=\u001b[0m \u001b[0;36m0.5\u001b[0m \u001b[0;34m*\u001b[0m \u001b[0;34m(\u001b[0m\u001b[0mspot_a\u001b[0m\u001b[0;34m.\u001b[0m\u001b[0mphi\u001b[0m \u001b[0;34m+\u001b[0m \u001b[0mspot_b\u001b[0m\u001b[0;34m.\u001b[0m\u001b[0mphi\u001b[0m\u001b[0;34m)\u001b[0m\u001b[0;34m\u001b[0m\u001b[0m\n",
      "\u001b[0;31mIndexError\u001b[0m: list index out of range"
     ]
    },
    {
     "data": {
      "image/png": "[encoded data removed]",
      "text/plain": [
       "<matplotlib.figure.Figure at 0x7f4fd270de48>"
      ]
     },
     "metadata": {},
     "output_type": "display_data"
    }
   ],
   "source": [
    "import sys\n",
    "sys.path.insert(0, '/astro/users/bmmorris/git/friedrich/')\n",
    "from friedrich.stsp import STSP\n",
    "from friedrich.lightcurve import LightCurve, hat11_params_morris_experiment, hat11_params_morris\n",
    "\n",
    "class Spot(object):\n",
    "    def __init__(self, r, theta, phi):\n",
    "        self.r = r\n",
    "        self.theta = theta\n",
    "        self.phi = phi\n",
    "        \n",
    "def spot_list_to_spot_params(spot_list):\n",
    "    spot_params = []\n",
    "    for spot in spot_list:\n",
    "        spot_params.extend([spot.r, spot.theta, spot.phi])\n",
    "    return spot_params\n",
    "\n",
    "def find_overlapping_spots(spot_list):\n",
    "    # starting from MCMCResults.find_overlapping_spots\n",
    "    overlapping_pairs = []\n",
    "    spots_with_overlap = []\n",
    "    for i in range(len(spot_list)):\n",
    "        for j in range(len(spot_list)):\n",
    "            if i < j:\n",
    "                sep = np.arccos(np.cos(spot_list[i].theta) * np.cos(spot_list[j].theta) + \n",
    "                                np.sin(spot_list[i].theta) * np.sin(spot_list[j].theta) * \n",
    "                                np.cos(spot_list[i].phi - spot_list[j].phi))\n",
    "                if sep < 1.01 * (spot_list[i].r + spot_list[j].r):\n",
    "                    overlapping_pairs.append((i, j))\n",
    "\n",
    "                    if i not in spots_with_overlap:\n",
    "                        spots_with_overlap.append(i)\n",
    "                    if j not in spots_with_overlap:\n",
    "                        spots_with_overlap.append(j)\n",
    "\n",
    "    spots_without_overlap = [spot for i, spot in enumerate(spot_list)\n",
    "                             if i not in spots_with_overlap]\n",
    "    return overlapping_pairs, spots_with_overlap, spots_without_overlap\n",
    "\n",
    "transit_params = hat11_params_morris() #hat11_params_morris_experiment()\n",
    "# transit_params.inc_stellar = 120\n",
    "\n",
    "times = Time(np.arange(transit_params.t0 - 0.06, \n",
    "                       transit_params.t0 + 0.06, 1./60/24), format='jd')\n",
    "lc = LightCurve(times=times, fluxes=np.ones(len(times)), errors=np.ones(len(times)))\n",
    "\n",
    "n_days = int(10 * 365/5)\n",
    "#n_days = 10\n",
    "\n",
    "bigfig, bigax = plt.subplots()\n",
    "\n",
    "for n in range(n_days):\n",
    "    start_time = Time('1960-01-01') + n*5*u.day\n",
    "    end_time = start_time + 1*u.day# Time('1947-04-09')\n",
    "\n",
    "    time_range = (table['jd'] < end_time.jd) & (table['jd'] > start_time.jd)\n",
    "    spots_within_range = table[time_range]\n",
    "\n",
    "    penumbra_to_umbra_area_ratio = 4.0\n",
    "    \n",
    "    area = penumbra_to_umbra_area_ratio * 1e-6 * spots_within_range['area_day_1'].data\n",
    "    #r = np.arctan(np.sqrt(2 * area))\n",
    "    radii = np.sqrt(2 * area)\n",
    "\n",
    "    phis = np.radians(spots_within_range['longitude_day_1'].data)\n",
    "    phis[phis < 0] += 2*np.pi\n",
    "    \n",
    "    thetas = np.radians(90 - spots_within_range['latitude_day_1'].data)\n",
    "\n",
    "    spots = [Spot(r, theta, phi) for r, theta, phi in zip(radii, thetas, phis)]\n",
    "    #print(spots_within_range)\n",
    "    overlapping_pairs, spots_with_overlap, spots_without_overlap = find_overlapping_spots(spots)\n",
    "    while len(overlapping_pairs) > 0:\n",
    "        print(overlapping_pairs)\n",
    "        \n",
    "        for spot_pair in overlapping_pairs:\n",
    "            spot_a = spots[spot_pair[0]]\n",
    "            spot_b = spots[spot_pair[1]]\n",
    "            mean_theta = 0.5 * (spot_a.theta + spot_b.theta)\n",
    "            mean_phi = 0.5 * (spot_a.phi + spot_b.phi)\n",
    "            total_area = np.pi * (spot_a.r**2 + spot_b.r**2)\n",
    "            total_r = np.sqrt(total_area/np.pi)\n",
    "        \n",
    "            new_spot = Spot(total_r, mean_theta, mean_phi)\n",
    "            spots_without_overlap.append(new_spot)\n",
    "            \n",
    "        overlapping_pairs, spots_with_overlap, spots_without_overlap = find_overlapping_spots(spots_without_overlap)\n",
    "\n",
    "    spot_params = spot_list_to_spot_params(spots_without_overlap)\n",
    "    print(len(spots_without_overlap))\n",
    "\n",
    "    if len(spot_params) > 0:\n",
    "        spot_params = np.array(spot_params)                \n",
    "    else:\n",
    "        spot_params = np.array([0.00001, 3*np.pi/2, np.pi/2])\n",
    "\n",
    "    # fig, ax = plt.subplots()\n",
    "    # ax.plot(np.degrees(phi) - 180, np.degrees(theta) - 90,'o')\n",
    "    # plt.show()\n",
    "    if len(spot_params) / 3 < 40:\n",
    "        s = STSP(lc, transit_params, spot_params)\n",
    "        t, f = s.stsp_lc()\n",
    "\n",
    "        typical_hat11_err = 0#4.63754918255e-05\n",
    "        f += typical_hat11_err * np.random.randn(len(f))\n",
    "\n",
    "        phase = ((t - transit_params.t0) % transit_params.per) / transit_params.per\n",
    "        phase[phase > 0.5] -= 1\n",
    "        # print(start_time.datetime.date())\n",
    "\n",
    "\n",
    "        if len(spot_params)/3 > 1:\n",
    "\n",
    "            fig, ax = plt.subplots() # plt.figure()\n",
    "            ax.set_title('{0}, N={1}'.format(start_time.datetime.date(), len(spot_params)/3))\n",
    "            ax.plot(phase, f, 'k.')\n",
    "            # plt.plot(phase, f, 'r')\n",
    "            ax.set_xlabel('Phase')\n",
    "            ax.set_ylabel('Flux')\n",
    "            ax.set_ylim([0.9953, 1.0005])\n",
    "            fig.savefig('/astro/users/bmmorris/git/starspots/sun/tmp/{0}.png'.format(start_time.datetime.date()), \n",
    "                        bbox_inches='tight', dpi=100)\n",
    "            plt.close()\n",
    "\n",
    "            bigax.plot(phase, f, 'k,')#, alpha=0.4)\n",
    "\n",
    "\n",
    "#         plt.show()"
   ]
  },
  {
   "cell_type": "code",
   "execution_count": 6,
   "metadata": {
    "collapsed": false
   },
   "outputs": [
    {
     "data": {
      "text/plain": [
       "[<matplotlib.lines.Line2D at 0x7f4fcfde5400>]"
      ]
     },
     "execution_count": 6,
     "metadata": {},
     "output_type": "execute_result"
    },
    {
     "data": {
      "image/png": "[encoded data removed]",
      "text/plain": [
       "<matplotlib.figure.Figure at 0x7f4fcfe50c18>"
      ]
     },
     "metadata": {},
     "output_type": "display_data"
    }
   ],
   "source": [
    "plt.plot(np.degrees(np.pi/2 - thetas), phis, '.')"
   ]
  },
  {
   "cell_type": "code",
   "execution_count": 7,
   "metadata": {
    "collapsed": false
   },
   "outputs": [
    {
     "data": {
      "text/html": [
       "&lt;Table length=19&gt;\n",
       "<table id=\"table139980767549256\" class=\"table-striped table-bordered table-condensed\">\n",
       "<thead><tr><th>jd</th><th>n_spots_leading</th><th>n_spots_following</th><th>n_spots_day_1</th><th>n_spots_day_2</th><th>rotation_rate</th><th>latitude_drift</th><th>latitude_day_1</th><th>latitude_day_2</th><th>longitude_day_1</th><th>longitude_day_2</th><th>area_day_1</th><th>area_day_2</th><th>group_latitude_day_1</th><th>group_longitude_day_1</th><th>group_area_day_1</th><th>group_area_day_2</th><th>polarity_day_1</th><th>polarity_change</th><th>tilt_day_1</th><th>tilt_day_2</th><th>group_rotation_rate</th><th>group_latitude_drift</th></tr></thead>\n",
       "<thead><tr><th>float64</th><th>float64</th><th>float64</th><th>float64</th><th>float64</th><th>float64</th><th>float64</th><th>float64</th><th>float64</th><th>float64</th><th>float64</th><th>float64</th><th>float64</th><th>float64</th><th>float64</th><th>float64</th><th>float64</th><th>float64</th><th>float64</th><th>float64</th><th>float64</th><th>float64</th><th>float64</th></tr></thead>\n",
       "<tr><td>2437074.91944</td><td>9.0</td><td>24.0</td><td>33.0</td><td>21.0</td><td>14.249</td><td>-0.32</td><td>-12.445</td><td>-12.126</td><td>12.649</td><td>25.867</td><td>27.547</td><td>9.084</td><td>-11.959</td><td>9.531</td><td>106.866</td><td>94.688</td><td>9.849</td><td>0.308</td><td>2.616</td><td>11.12</td><td>14.496</td><td>-0.05</td></tr>\n",
       "<tr><td>2437074.91944</td><td>9.0</td><td>24.0</td><td>33.0</td><td>21.0</td><td>14.009</td><td>-0.256</td><td>-11.697</td><td>-11.442</td><td>13.444</td><td>26.423</td><td>20.105</td><td>26.31</td><td>-11.959</td><td>9.531</td><td>106.866</td><td>94.688</td><td>9.849</td><td>0.308</td><td>2.616</td><td>11.12</td><td>14.496</td><td>-0.05</td></tr>\n",
       "<tr><td>2437074.91944</td><td>9.0</td><td>24.0</td><td>33.0</td><td>21.0</td><td>14.886</td><td>-0.1</td><td>-11.542</td><td>-11.442</td><td>12.57</td><td>26.423</td><td>3.231</td><td>26.31</td><td>-11.959</td><td>9.531</td><td>106.866</td><td>94.688</td><td>9.849</td><td>0.308</td><td>2.616</td><td>11.12</td><td>14.496</td><td>-0.05</td></tr>\n",
       "<tr><td>2437074.91944</td><td>9.0</td><td>24.0</td><td>33.0</td><td>21.0</td><td>14.389</td><td>-0.359</td><td>-11.042</td><td>-10.685</td><td>12.31</td><td>25.668</td><td>16.535</td><td>23.07</td><td>-11.959</td><td>9.531</td><td>106.866</td><td>94.688</td><td>9.849</td><td>0.308</td><td>2.616</td><td>11.12</td><td>14.496</td><td>-0.05</td></tr>\n",
       "<tr><td>2437074.91944</td><td>9.0</td><td>24.0</td><td>33.0</td><td>21.0</td><td>14.158</td><td>-0.289</td><td>-12.262</td><td>-11.974</td><td>11.995</td><td>25.123</td><td>4.31</td><td>8.974</td><td>-11.959</td><td>9.531</td><td>106.866</td><td>94.688</td><td>9.849</td><td>0.308</td><td>2.616</td><td>11.12</td><td>14.496</td><td>-0.05</td></tr>\n",
       "<tr><td>2437074.91944</td><td>9.0</td><td>24.0</td><td>33.0</td><td>21.0</td><td>14.597</td><td>-0.244</td><td>-9.976</td><td>-9.732</td><td>6.816</td><td>20.381</td><td>3.38</td><td>2.945</td><td>-11.959</td><td>9.531</td><td>106.866</td><td>94.688</td><td>9.849</td><td>0.308</td><td>2.616</td><td>11.12</td><td>14.496</td><td>-0.05</td></tr>\n",
       "<tr><td>2437074.91944</td><td>9.0</td><td>24.0</td><td>33.0</td><td>21.0</td><td>14.768</td><td>-0.347</td><td>-10.078</td><td>-9.732</td><td>6.646</td><td>20.381</td><td>2.812</td><td>2.945</td><td>-11.959</td><td>9.531</td><td>106.866</td><td>94.688</td><td>9.849</td><td>0.308</td><td>2.616</td><td>11.12</td><td>14.496</td><td>-0.05</td></tr>\n",
       "<tr><td>2437074.91944</td><td>9.0</td><td>24.0</td><td>33.0</td><td>21.0</td><td>14.571</td><td>-0.331</td><td>-11.771</td><td>-11.441</td><td>7.812</td><td>21.351</td><td>1.425</td><td>0.975</td><td>-11.959</td><td>9.531</td><td>106.866</td><td>94.688</td><td>9.849</td><td>0.308</td><td>2.616</td><td>11.12</td><td>14.496</td><td>-0.05</td></tr>\n",
       "<tr><td>2437074.91944</td><td>9.0</td><td>24.0</td><td>33.0</td><td>21.0</td><td>14.977</td><td>-0.259</td><td>-15.299</td><td>-15.041</td><td>0.609</td><td>14.552</td><td>6.796</td><td>7.508</td><td>-11.959</td><td>9.531</td><td>106.866</td><td>94.688</td><td>9.849</td><td>0.308</td><td>2.616</td><td>11.12</td><td>14.496</td><td>-0.05</td></tr>\n",
       "<tr><td>2437074.91944</td><td>9.0</td><td>24.0</td><td>33.0</td><td>21.0</td><td>14.863</td><td>-0.168</td><td>-14.689</td><td>-14.522</td><td>-0.133</td><td>13.697</td><td>0.166</td><td>0.188</td><td>-11.959</td><td>9.531</td><td>106.866</td><td>94.688</td><td>9.849</td><td>0.308</td><td>2.616</td><td>11.12</td><td>14.496</td><td>-0.05</td></tr>\n",
       "<tr><td>2437074.91944</td><td>9.0</td><td>24.0</td><td>33.0</td><td>21.0</td><td>14.06</td><td>-0.331</td><td>-14.716</td><td>-14.385</td><td>-0.577</td><td>12.453</td><td>0.05</td><td>0.05</td><td>-11.959</td><td>9.531</td><td>106.866</td><td>94.688</td><td>9.849</td><td>0.308</td><td>2.616</td><td>11.12</td><td>14.496</td><td>-0.05</td></tr>\n",
       "<tr><td>2437074.91944</td><td>9.0</td><td>24.0</td><td>33.0</td><td>21.0</td><td>14.613</td><td>-0.26</td><td>-12.446</td><td>-12.188</td><td>-1.262</td><td>12.319</td><td>2.652</td><td>0.967</td><td>-11.959</td><td>9.531</td><td>106.866</td><td>94.688</td><td>9.849</td><td>0.308</td><td>2.616</td><td>11.12</td><td>14.496</td><td>-0.05</td></tr>\n",
       "<tr><td>2437074.91944</td><td>9.0</td><td>24.0</td><td>33.0</td><td>21.0</td><td>14.613</td><td>-0.08</td><td>-12.267</td><td>-12.188</td><td>-1.261</td><td>12.319</td><td>1.252</td><td>0.967</td><td>-11.959</td><td>9.531</td><td>106.866</td><td>94.688</td><td>9.849</td><td>0.308</td><td>2.616</td><td>11.12</td><td>14.496</td><td>-0.05</td></tr>\n",
       "<tr><td>2437074.91944</td><td>9.0</td><td>24.0</td><td>33.0</td><td>21.0</td><td>14.445</td><td>0.091</td><td>-13.549</td><td>-13.64</td><td>-2.734</td><td>10.68</td><td>1.123</td><td>0.693</td><td>-11.959</td><td>9.531</td><td>106.866</td><td>94.688</td><td>9.849</td><td>0.308</td><td>2.616</td><td>11.12</td><td>14.496</td><td>-0.05</td></tr>\n",
       "<tr><td>2437074.91944</td><td>9.0</td><td>24.0</td><td>33.0</td><td>21.0</td><td>14.21</td><td>-0.399</td><td>-13.035</td><td>-12.637</td><td>-2.676</td><td>10.504</td><td>2.144</td><td>0.863</td><td>-11.959</td><td>9.531</td><td>106.866</td><td>94.688</td><td>9.849</td><td>0.308</td><td>2.616</td><td>11.12</td><td>14.496</td><td>-0.05</td></tr>\n",
       "<tr><td>2437074.91944</td><td>9.0</td><td>24.0</td><td>33.0</td><td>21.0</td><td>14.398</td><td>-0.082</td><td>-12.719</td><td>-12.637</td><td>-2.863</td><td>10.504</td><td>3.396</td><td>0.863</td><td>-11.959</td><td>9.531</td><td>106.866</td><td>94.688</td><td>9.849</td><td>0.308</td><td>2.616</td><td>11.12</td><td>14.496</td><td>-0.05</td></tr>\n",
       "<tr><td>2437074.91944</td><td>1.0</td><td>2.0</td><td>3.0</td><td>1.0</td><td>14.374</td><td>-0.373</td><td>17.613</td><td>17.242</td><td>-4.975</td><td>8.368</td><td>0.332</td><td>3.889</td><td>17.246</td><td>-4.949</td><td>3.941</td><td>3.889</td><td>0.615</td><td>-0.615</td><td>75.148</td><td>0.0</td><td>14.348</td><td>0.0</td></tr>\n",
       "<tr><td>2437074.91944</td><td>1.0</td><td>2.0</td><td>3.0</td><td>1.0</td><td>14.699</td><td>-0.785</td><td>18.024</td><td>17.242</td><td>-5.298</td><td>8.368</td><td>0.189</td><td>3.889</td><td>17.246</td><td>-4.949</td><td>3.941</td><td>3.889</td><td>0.615</td><td>-0.615</td><td>75.148</td><td>0.0</td><td>14.348</td><td>0.0</td></tr>\n",
       "<tr><td>2437074.91944</td><td>1.0</td><td>1.0</td><td>2.0</td><td>2.0</td><td>13.974</td><td>-0.229</td><td>5.638</td><td>5.411</td><td>34.298</td><td>47.242</td><td>15.814</td><td>3.489</td><td>5.636</td><td>34.293</td><td>15.864</td><td>4.904</td><td>1.675</td><td>-1.166</td><td>-23.086</td><td>73.238</td><td>13.936</td><td>-0.09</td></tr>\n",
       "</table>"
      ],
      "text/plain": [
       "<Table length=19>\n",
       "      jd      n_spots_leading ... group_rotation_rate group_latitude_drift\n",
       "   float64        float64     ...       float64             float64       \n",
       "------------- --------------- ... ------------------- --------------------\n",
       "2437074.91944             9.0 ...              14.496                -0.05\n",
       "2437074.91944             9.0 ...              14.496                -0.05\n",
       "2437074.91944             9.0 ...              14.496                -0.05\n",
       "2437074.91944             9.0 ...              14.496                -0.05\n",
       "2437074.91944             9.0 ...              14.496                -0.05\n",
       "2437074.91944             9.0 ...              14.496                -0.05\n",
       "2437074.91944             9.0 ...              14.496                -0.05\n",
       "2437074.91944             9.0 ...              14.496                -0.05\n",
       "2437074.91944             9.0 ...              14.496                -0.05\n",
       "2437074.91944             9.0 ...              14.496                -0.05\n",
       "2437074.91944             9.0 ...              14.496                -0.05\n",
       "2437074.91944             9.0 ...              14.496                -0.05\n",
       "2437074.91944             9.0 ...              14.496                -0.05\n",
       "2437074.91944             9.0 ...              14.496                -0.05\n",
       "2437074.91944             9.0 ...              14.496                -0.05\n",
       "2437074.91944             9.0 ...              14.496                -0.05\n",
       "2437074.91944             1.0 ...              14.348                  0.0\n",
       "2437074.91944             1.0 ...              14.348                  0.0\n",
       "2437074.91944             1.0 ...              13.936                -0.09"
      ]
     },
     "execution_count": 7,
     "metadata": {},
     "output_type": "execute_result"
    }
   ],
   "source": [
    "spots_within_range"
   ]
  },
  {
   "cell_type": "code",
   "execution_count": null,
   "metadata": {
    "collapsed": false
   },
   "outputs": [],
   "source": [
    "len(spot_params)/3"
   ]
  },
  {
   "cell_type": "code",
   "execution_count": null,
   "metadata": {
    "collapsed": false
   },
   "outputs": [],
   "source": [
    "spots_within_range"
   ]
  },
  {
   "cell_type": "code",
   "execution_count": null,
   "metadata": {
    "collapsed": false
   },
   "outputs": [],
   "source": [
    "for attr in dir(transit_params):\n",
    "    if not attr.startswith('__'):\n",
    "        print(attr, getattr(transit_params, attr))"
   ]
  },
  {
   "cell_type": "code",
   "execution_count": null,
   "metadata": {
    "collapsed": false
   },
   "outputs": [],
   "source": [
    "plt.plot(np.degrees(spot_params[1::3]), np.degrees(spot_params[2::3]), '.')"
   ]
  },
  {
   "cell_type": "code",
   "execution_count": null,
   "metadata": {
    "collapsed": false
   },
   "outputs": [],
   "source": [
    "spots_within_range['latitude_day_1']"
   ]
  },
  {
   "cell_type": "code",
   "execution_count": null,
   "metadata": {
    "collapsed": false
   },
   "outputs": [],
   "source": [
    "n_days = 100\n",
    "for n in range(n_days):\n",
    "    start_time = Time('1960-01-01') + n*5*u.day\n",
    "    end_time = start_time + 1*u.day # Time('1947-04-09')\n",
    "\n",
    "    time_range = (table['jd'] < end_time.jd) & (table['jd'] > start_time.jd)\n",
    "    spots_within_range = table[time_range]\n",
    "    \n",
    "    plt.plot(spots_within_range['longitude_day_1'], \n",
    "             90 - spots_within_range['latitude_day_1'], '.')\n",
    "plt.xlabel('theta = longitude')\n",
    "plt.ylabel('phi = 90 - latitude')"
   ]
  },
  {
   "cell_type": "code",
   "execution_count": null,
   "metadata": {
    "collapsed": true
   },
   "outputs": [],
   "source": []
  }
 ],
 "metadata": {
  "anaconda-cloud": {},
  "kernelspec": {
   "display_name": "Python 3",
   "language": "python",
   "name": "python3"
  },
  "language_info": {
   "codemirror_mode": {
    "name": "ipython",
    "version": 3
   },
   "file_extension": ".py",
   "mimetype": "text/x-python",
   "name": "python",
   "nbconvert_exporter": "python",
   "pygments_lexer": "ipython3",
   "version": "3.5.2"
  }
 },
 "nbformat": 4,
 "nbformat_minor": 0
}

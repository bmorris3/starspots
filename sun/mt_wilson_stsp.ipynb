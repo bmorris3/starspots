{
 "cells": [
  {
   "cell_type": "markdown",
   "metadata": {},
   "source": [
    "# Mt Wilson Sunspot database 1917-1985\n",
    "\n",
    "From the readme: \n",
    "\n",
    "> Sunspot umbral position and area information were digitized from the Mount Wilson daily white-light solar images some years ago (Howard, Gilman, and Gilman, 1984). These photographic images exist in a series that extends from 1917 through the present time. The digitized data extend from 1917 through 1985. Details about the observations, the measurement procedure, and the analysis techniques used earlier may be obtained from the earlier reference (Howard, Gilman, and Gilman, 1984).\n",
    "\n",
    "These data were first published in [Howard, Gilman, and Gilman, 1984](http://adsabs.harvard.edu/abs/1984ApJ...283..373H). The data are accessible online [here](http://www.ngdc.noaa.gov/stp/solar/sunspotregionsdata.html)."
   ]
  },
  {
   "cell_type": "code",
   "execution_count": 1,
   "metadata": {
    "collapsed": true
   },
   "outputs": [],
   "source": [
    "%matplotlib inline\n",
    "import numpy as np\n",
    "import matplotlib.pyplot as plt\n",
    "from glob import glob\n",
    "\n",
    "#paths = glob('/Users/bmmorris/data/Mt_Wilson_Tilt/*/sspot??.dat')\n",
    "paths = glob('/local/tmp/Mt_Wilson_Tilt/*/sspot??.dat')\n",
    "\n",
    "from astropy.time import Time\n",
    "import astropy.units as u\n",
    "import string\n",
    "from astropy.table import Table"
   ]
  },
  {
   "cell_type": "code",
   "execution_count": 2,
   "metadata": {
    "collapsed": false
   },
   "outputs": [
    {
     "name": "stderr",
     "output_type": "stream",
     "text": [
      "WARNING: ErfaWarning: ERFA function \"dtf2d\" yielded 1 of \"dubious year (Note 6)\" [astropy._erfa.core]\n"
     ]
    }
   ],
   "source": [
    "def split_interval(string, n, cast_to_type=float):\n",
    "    return [cast_to_type(string[i:i+n]) for i in range(0, len(string), n)]\n",
    "\n",
    "all_years_array = []\n",
    "\n",
    "header = (\"jd n_spots_leading n_spots_following n_spots_day_1 n_spots_day_2 \"\n",
    "          \"rotation_rate latitude_drift area_weighted_latitude_day_1 area_weighted_longitude_day_1 \"\n",
    "          \"area_weighted_longitude_day_2 area_day_1 area_day_2 tilt_day_1 delta_polarity_separation \"\n",
    "          \"area_weighted_longitude_day_1_leading area_weighted_longitude_day_1_following \"\n",
    "          \"area_weighted_latitude_day_1_leading area_weighted_latitude_day_1_following \"\n",
    "          \"area_leading area_following area_weighted_longitude_day_2_leading \" \n",
    "          \"area_weighted_longitude_day_2_following delta_tilt\").split()\n",
    "\n",
    "header = (\"jd n_spots_leading n_spots_following n_spots_day_1 n_spots_day_2 \"\n",
    "          \"rotation_rate latitude_drift latitude_day_1 latitude_day_2 longitude_day_1 \"\n",
    "          \"longitude_day_2 area_day_1 area_day_2 group_latitude_day_1 group_longitude_day_1 \"\n",
    "          \"group_area_day_1 group_area_day_2 polarity_day_1 polarity_change tilt_day_1 tilt_day_2 \"\n",
    "          \"group_rotation_rate group_latitude_drift\").split()\n",
    "\n",
    "for path in paths:\n",
    "    f = open(path).read().splitlines()\n",
    "\n",
    "    n_rows = len(f) // 3\n",
    "    n_columns = 23#18\n",
    "    yearly_array = np.zeros((n_rows, n_columns))\n",
    "\n",
    "    for i in range(n_rows):\n",
    "        # First five ints specify time, afterwards specify sunspot data\n",
    "        int_list = split_interval(f[0+i*3][:18], 2, int)\n",
    "        month, day, year_minus_1900, hour, minute = int_list[:5]\n",
    "        year = year_minus_1900 + 1900\n",
    "        jd = Time(\"{year:d}-{month:02d}-{day:02d} {hour:02d}:{minute:02d}\"\n",
    "                  .format(**locals())).jd\n",
    "        row = [jd] + int_list[5:] + split_interval(f[1+i*3], 7) + split_interval(f[2+i*3][1:], 7)\n",
    "        yearly_array[i, :] = row\n",
    "\n",
    "    all_years_array.append(yearly_array)\n",
    "\n",
    "table = Table(np.vstack(all_years_array), names=header)"
   ]
  },
  {
   "cell_type": "code",
   "execution_count": 3,
   "metadata": {
    "collapsed": false
   },
   "outputs": [
    {
     "data": {
      "text/html": [
       "&lt;Table length=110288&gt;\n",
       "<table id=\"table140208408671176\" class=\"table-striped table-bordered table-condensed\">\n",
       "<thead><tr><th>jd</th><th>n_spots_leading</th><th>n_spots_following</th><th>n_spots_day_1</th><th>n_spots_day_2</th><th>rotation_rate</th><th>latitude_drift</th><th>latitude_day_1</th><th>latitude_day_2</th><th>longitude_day_1</th><th>longitude_day_2</th><th>area_day_1</th><th>area_day_2</th><th>group_latitude_day_1</th><th>group_longitude_day_1</th><th>group_area_day_1</th><th>group_area_day_2</th><th>polarity_day_1</th><th>polarity_change</th><th>tilt_day_1</th><th>tilt_day_2</th><th>group_rotation_rate</th><th>group_latitude_drift</th></tr></thead>\n",
       "<thead><tr><th>float64</th><th>float64</th><th>float64</th><th>float64</th><th>float64</th><th>float64</th><th>float64</th><th>float64</th><th>float64</th><th>float64</th><th>float64</th><th>float64</th><th>float64</th><th>float64</th><th>float64</th><th>float64</th><th>float64</th><th>float64</th><th>float64</th><th>float64</th><th>float64</th><th>float64</th><th>float64</th></tr></thead>\n",
       "<tr><td>2435473.76042</td><td>2.0</td><td>2.0</td><td>4.0</td><td>7.0</td><td>12.138</td><td>0.66</td><td>-20.848</td><td>-21.515</td><td>-20.81</td><td>-9.536</td><td>0.673</td><td>1.197</td><td>-20.883</td><td>-21.027</td><td>9.632</td><td>5.72</td><td>2.217</td><td>-0.773</td><td>-11.832</td><td>42.861</td><td>12.809</td><td>0.62</td></tr>\n",
       "<tr><td>2435473.76042</td><td>2.0</td><td>2.0</td><td>4.0</td><td>7.0</td><td>12.277</td><td>0.604</td><td>-20.905</td><td>-21.515</td><td>-20.951</td><td>-9.536</td><td>8.599</td><td>1.197</td><td>-20.883</td><td>-21.027</td><td>9.632</td><td>5.72</td><td>2.217</td><td>-0.773</td><td>-11.832</td><td>42.861</td><td>12.809</td><td>0.62</td></tr>\n",
       "<tr><td>2435473.76042</td><td>6.0</td><td>6.0</td><td>12.0</td><td>3.0</td><td>14.749</td><td>0.283</td><td>26.82</td><td>27.105</td><td>18.48</td><td>32.393</td><td>7.247</td><td>3.183</td><td>26.342</td><td>16.924</td><td>39.899</td><td>4.611</td><td>4.233</td><td>-2.677</td><td>33.501</td><td>65.282</td><td>16.504</td><td>0.33</td></tr>\n",
       "<tr><td>2435473.76042</td><td>6.0</td><td>6.0</td><td>12.0</td><td>3.0</td><td>14.856</td><td>0.025</td><td>25.661</td><td>25.686</td><td>19.1</td><td>33.121</td><td>5.209</td><td>1.378</td><td>26.342</td><td>16.924</td><td>39.899</td><td>4.611</td><td>4.233</td><td>-2.677</td><td>33.501</td><td>65.282</td><td>16.504</td><td>0.33</td></tr>\n",
       "<tr><td>2435473.76042</td><td>6.0</td><td>6.0</td><td>12.0</td><td>3.0</td><td>14.462</td><td>0.218</td><td>25.466</td><td>25.686</td><td>19.499</td><td>33.121</td><td>4.205</td><td>1.378</td><td>26.342</td><td>16.924</td><td>39.899</td><td>4.611</td><td>4.233</td><td>-2.677</td><td>33.501</td><td>65.282</td><td>16.504</td><td>0.33</td></tr>\n",
       "<tr><td>2435473.76042</td><td>6.0</td><td>6.0</td><td>12.0</td><td>3.0</td><td>14.041</td><td>0.266</td><td>25.417</td><td>25.686</td><td>19.924</td><td>33.121</td><td>0.05</td><td>1.378</td><td>26.342</td><td>16.924</td><td>39.899</td><td>4.611</td><td>4.233</td><td>-2.677</td><td>33.501</td><td>65.282</td><td>16.504</td><td>0.33</td></tr>\n",
       "<tr><td>2435474.75</td><td>3.0</td><td>4.0</td><td>7.0</td><td>5.0</td><td>13.592</td><td>0.048</td><td>-21.515</td><td>-21.563</td><td>-9.536</td><td>3.103</td><td>1.197</td><td>3.624</td><td>-21.512</td><td>-9.074</td><td>5.72</td><td>13.079</td><td>1.444</td><td>-0.056</td><td>42.861</td><td>56.895</td><td>13.555</td><td>-0.73</td></tr>\n",
       "<tr><td>2435474.75</td><td>3.0</td><td>4.0</td><td>7.0</td><td>5.0</td><td>13.625</td><td>0.052</td><td>-21.247</td><td>-21.299</td><td>-9.803</td><td>2.869</td><td>0.214</td><td>1.508</td><td>-21.512</td><td>-9.074</td><td>5.72</td><td>13.079</td><td>1.444</td><td>-0.056</td><td>42.861</td><td>56.895</td><td>13.555</td><td>-0.73</td></tr>\n",
       "<tr><td>2435474.75</td><td>3.0</td><td>4.0</td><td>7.0</td><td>5.0</td><td>13.35</td><td>-0.18</td><td>-20.795</td><td>-20.614</td><td>-8.7</td><td>3.696</td><td>0.75</td><td>2.933</td><td>-21.512</td><td>-9.074</td><td>5.72</td><td>13.079</td><td>1.444</td><td>-0.056</td><td>42.861</td><td>56.895</td><td>13.555</td><td>-0.73</td></tr>\n",
       "<tr><td>2435474.75</td><td>3.0</td><td>4.0</td><td>7.0</td><td>5.0</td><td>13.262</td><td>-0.2</td><td>-20.405</td><td>-20.204</td><td>-8.317</td><td>3.991</td><td>1.168</td><td>3.696</td><td>-21.512</td><td>-9.074</td><td>5.72</td><td>13.079</td><td>1.444</td><td>-0.056</td><td>42.861</td><td>56.895</td><td>13.555</td><td>-0.73</td></tr>\n",
       "<tr><td>...</td><td>...</td><td>...</td><td>...</td><td>...</td><td>...</td><td>...</td><td>...</td><td>...</td><td>...</td><td>...</td><td>...</td><td>...</td><td>...</td><td>...</td><td>...</td><td>...</td><td>...</td><td>...</td><td>...</td><td>...</td><td>...</td><td>...</td></tr>\n",
       "<tr><td>2438356.81667</td><td>1.0</td><td>2.0</td><td>3.0</td><td>3.0</td><td>14.534</td><td>-0.674</td><td>7.401</td><td>6.68</td><td>-38.084</td><td>-23.593</td><td>1.971</td><td>2.671</td><td>7.469</td><td>-37.686</td><td>10.36</td><td>5.59</td><td>0.529</td><td>0.124</td><td>-8.876</td><td>-8.189</td><td>14.301</td><td>-0.67</td></tr>\n",
       "<tr><td>2438356.81667</td><td>1.0</td><td>2.0</td><td>3.0</td><td>3.0</td><td>14.812</td><td>-0.594</td><td>7.494</td><td>6.859</td><td>-39.174</td><td>-24.386</td><td>0.05</td><td>0.526</td><td>7.469</td><td>-37.686</td><td>10.36</td><td>5.59</td><td>0.529</td><td>0.124</td><td>-8.876</td><td>-8.189</td><td>14.301</td><td>-0.67</td></tr>\n",
       "<tr><td>2438356.81667</td><td>0.0</td><td>0.0</td><td>1.0</td><td>1.0</td><td>14.301</td><td>-0.577</td><td>8.609</td><td>7.992</td><td>-48.472</td><td>-34.231</td><td>3.449</td><td>3.443</td><td>8.609</td><td>-48.472</td><td>3.449</td><td>3.443</td><td>0.0</td><td>0.0</td><td>0.0</td><td>0.0</td><td>14.301</td><td>-0.58</td></tr>\n",
       "<tr><td>2438356.81667</td><td>0.0</td><td>0.0</td><td>1.0</td><td>2.0</td><td>14.934</td><td>-0.678</td><td>14.164</td><td>13.439</td><td>13.606</td><td>28.525</td><td>3.256</td><td>1.137</td><td>14.164</td><td>13.606</td><td>3.256</td><td>1.381</td><td>0.0</td><td>0.464</td><td>0.0</td><td>-83.791</td><td>14.943</td><td>-0.6</td></tr>\n",
       "<tr><td>2438357.74653</td><td>1.0</td><td>2.0</td><td>3.0</td><td>1.0</td><td>13.198</td><td>-0.249</td><td>6.802</td><td>6.544</td><td>-23.074</td><td>-10.418</td><td>2.394</td><td>9.383</td><td>6.749</td><td>-23.445</td><td>5.59</td><td>9.383</td><td>0.652</td><td>-0.652</td><td>-8.189</td><td>0.0</td><td>13.557</td><td>-0.2</td></tr>\n",
       "<tr><td>2438357.74653</td><td>1.0</td><td>2.0</td><td>3.0</td><td>1.0</td><td>13.7</td><td>-0.131</td><td>6.68</td><td>6.544</td><td>-23.593</td><td>-10.418</td><td>2.671</td><td>9.383</td><td>6.749</td><td>-23.445</td><td>5.59</td><td>9.383</td><td>0.652</td><td>-0.652</td><td>-8.189</td><td>0.0</td><td>13.557</td><td>-0.2</td></tr>\n",
       "<tr><td>2438357.74653</td><td>0.0</td><td>0.0</td><td>1.0</td><td>1.0</td><td>13.562</td><td>-0.84</td><td>7.992</td><td>7.122</td><td>-34.231</td><td>-21.199</td><td>3.443</td><td>5.57</td><td>7.992</td><td>-34.231</td><td>3.443</td><td>5.57</td><td>0.0</td><td>0.0</td><td>0.0</td><td>0.0</td><td>13.562</td><td>-0.84</td></tr>\n",
       "<tr><td>2438358.71042</td><td>0.0</td><td>0.0</td><td>1.0</td><td>2.0</td><td>12.447</td><td>-0.022</td><td>6.544</td><td>6.525</td><td>-10.418</td><td>-0.221</td><td>9.383</td><td>1.761</td><td>6.544</td><td>-10.418</td><td>9.383</td><td>1.811</td><td>0.0</td><td>0.31</td><td>0.0</td><td>61.223</td><td>12.452</td><td>-0.03</td></tr>\n",
       "<tr><td>2438359.82083</td><td>1.0</td><td>1.0</td><td>2.0</td><td>4.0</td><td>12.007</td><td>0.376</td><td>6.253</td><td>6.743</td><td>-0.071</td><td>14.289</td><td>0.05</td><td>0.65</td><td>6.517</td><td>-0.217</td><td>1.811</td><td>6.75</td><td>0.31</td><td>1.141</td><td>61.223</td><td>15.676</td><td>12.623</td><td>0.12</td></tr>\n",
       "<tr><td>2438359.82083</td><td>1.0</td><td>1.0</td><td>2.0</td><td>4.0</td><td>12.122</td><td>0.167</td><td>6.525</td><td>6.743</td><td>-0.221</td><td>14.289</td><td>1.761</td><td>0.65</td><td>6.517</td><td>-0.217</td><td>1.811</td><td>6.75</td><td>0.31</td><td>1.141</td><td>61.223</td><td>15.676</td><td>12.623</td><td>0.12</td></tr>\n",
       "</table>"
      ],
      "text/plain": [
       "<Table length=110288>\n",
       "      jd      n_spots_leading ... group_rotation_rate group_latitude_drift\n",
       "   float64        float64     ...       float64             float64       \n",
       "------------- --------------- ... ------------------- --------------------\n",
       "2435473.76042             2.0 ...              12.809                 0.62\n",
       "2435473.76042             2.0 ...              12.809                 0.62\n",
       "2435473.76042             6.0 ...              16.504                 0.33\n",
       "2435473.76042             6.0 ...              16.504                 0.33\n",
       "2435473.76042             6.0 ...              16.504                 0.33\n",
       "2435473.76042             6.0 ...              16.504                 0.33\n",
       "   2435474.75             3.0 ...              13.555                -0.73\n",
       "   2435474.75             3.0 ...              13.555                -0.73\n",
       "   2435474.75             3.0 ...              13.555                -0.73\n",
       "   2435474.75             3.0 ...              13.555                -0.73\n",
       "          ...             ... ...                 ...                  ...\n",
       "2438356.81667             1.0 ...              14.301                -0.67\n",
       "2438356.81667             1.0 ...              14.301                -0.67\n",
       "2438356.81667             0.0 ...              14.301                -0.58\n",
       "2438356.81667             0.0 ...              14.943                 -0.6\n",
       "2438357.74653             1.0 ...              13.557                 -0.2\n",
       "2438357.74653             1.0 ...              13.557                 -0.2\n",
       "2438357.74653             0.0 ...              13.562                -0.84\n",
       "2438358.71042             0.0 ...              12.452                -0.03\n",
       "2438359.82083             1.0 ...              12.623                 0.12\n",
       "2438359.82083             1.0 ...              12.623                 0.12"
      ]
     },
     "execution_count": 3,
     "metadata": {},
     "output_type": "execute_result"
    }
   ],
   "source": [
    "table"
   ]
  },
  {
   "cell_type": "code",
   "execution_count": 4,
   "metadata": {
    "collapsed": false
   },
   "outputs": [
    {
     "data": {
      "image/png": "[encoded data removed]",
      "text/plain": [
       "<matplotlib.figure.Figure at 0x7f84d1f6f080>"
      ]
     },
     "metadata": {},
     "output_type": "display_data"
    }
   ],
   "source": [
    "start_time = Time('1969-01-01')\n",
    "end_time = Time('1969-06-01')\n",
    "\n",
    "time_range = (table['jd'] < end_time.jd) & (table['jd'] > start_time.jd)\n",
    "spots_within_range = table[time_range]\n",
    "\n",
    "\n",
    "projection = 'Hammer'\n",
    "\n",
    "# Plot the built-in projections\n",
    "fig = plt.figure(figsize=(14, 14))\n",
    "ax = plt.subplot(111, projection=projection.lower())#, axisbg='black')\n",
    "\n",
    "from astroML.plotting import plot_tissot_ellipse\n",
    "rp_rs = 0.058330305324663184\n",
    "radius = 1.0*np.tan(rp_rs)  # from s=r*theta\n",
    "\n",
    "cmap = plt.cm.viridis\n",
    "for spot in spots_within_range: \n",
    "    latitude, longitude = spot['group_latitude_day_1'], spot['group_longitude_day_1']\n",
    "    area = 1e-6*spot['group_area_day_1']\n",
    "    \n",
    "    radius = np.tan(np.sqrt(2 * area))\n",
    "    \n",
    "    p = plot_tissot_ellipse(np.radians(longitude), np.radians(latitude), \n",
    "                            radius, ax=ax, linewidth=0,\n",
    "                            alpha = 1)\n",
    "    \n",
    "p = plot_tissot_ellipse(0, 0, \n",
    "                        np.tan(rp_rs), ax=ax, linewidth=0,\n",
    "                        alpha = 1, color='k')"
   ]
  },
  {
   "cell_type": "code",
   "execution_count": 5,
   "metadata": {
    "collapsed": false
   },
   "outputs": [
    {
     "data": {
      "text/plain": [
       "[<matplotlib.text.Text at 0x7f849b84dcf8>,\n",
       " <matplotlib.text.Text at 0x7f849b83fc18>]"
      ]
     },
     "execution_count": 5,
     "metadata": {},
     "output_type": "execute_result"
    },
    {
     "data": {
      "image/png": "[encoded data removed]",
      "text/plain": [
       "<matplotlib.figure.Figure at 0x7f84d1f7ea90>"
      ]
     },
     "metadata": {},
     "output_type": "display_data"
    }
   ],
   "source": [
    "from matplotlib.patches import Ellipse\n",
    "start_time = Time('1970-01-01')\n",
    "end_time = Time('1971-01-01')\n",
    "\n",
    "time_range = (table['jd'] < end_time.jd) & (table['jd'] > start_time.jd)\n",
    "spots_within_range = table[time_range][::100]\n",
    "\n",
    "# Plot the built-in projections\n",
    "fig = plt.figure(figsize=(8, 8))\n",
    "ax = plt.subplot(111)\n",
    "\n",
    "cmap = plt.cm.viridis\n",
    "for spot in spots_within_range: \n",
    "    latitude, longitude = spot['group_latitude_day_1'], spot['group_longitude_day_1']\n",
    "    area = 1e-6*spot['group_area_day_1']\n",
    "    \n",
    "    radius = 100 * np.tan(np.sqrt(2 * area))\n",
    "    \n",
    "    #print(longitude, latitude, radius)\n",
    "    circle1=plt.Circle((longitude, latitude), radius, color='k', alpha=0.3)\n",
    "    ax.add_artist(circle1)\n",
    "    \n",
    "ax.set_xlim([-60, 60])\n",
    "ax.set_ylim([-40, 40])\n",
    "ax.set_aspect(1)\n",
    "ax.set(xlabel='Longitude', ylabel='Latitude')"
   ]
  },
  {
   "cell_type": "code",
   "execution_count": 25,
   "metadata": {
    "collapsed": false,
    "scrolled": false
   },
   "outputs": [
    {
     "name": "stdout",
     "output_type": "stream",
     "text": [
      "(43.706999999999994, 14.013000000000005)\n",
      "(39.117999999999995, 16.375)\n",
      "(30.257000000000033, 4.1650000000000063)\n",
      "(30.771999999999991, 3.1949999999999932)\n",
      "(-21.570999999999998, 13.885000000000005)\n",
      "(-37.38300000000001, -11.316000000000003)\n",
      "(-40.045000000000016, -10.753)\n",
      "(-40.560000000000002, -10.644000000000005)\n",
      "(-41.632000000000005, -10.662999999999997)\n",
      "(-55.844999999999985, -13.951999999999998)\n",
      "(23.443000000000012, -25.814999999999998)\n",
      "(27.115999999999985, -25.358000000000004)\n"
     ]
    },
    {
     "name": "stderr",
     "output_type": "stream",
     "text": [
      "WARNING: ErfaWarning: ERFA function \"dtf2d\" yielded 1 of \"dubious year (Note 6)\" [astropy._erfa.core]\n"
     ]
    },
    {
     "data": {
      "image/png": "[encoded data removed]",
      "text/plain": [
       "<matplotlib.figure.Figure at 0x7f849480c400>"
      ]
     },
     "metadata": {},
     "output_type": "display_data"
    },
    {
     "data": {
      "image/png": "[encoded data removed]",
      "text/plain": [
       "<matplotlib.figure.Figure at 0x7f8494a176a0>"
      ]
     },
     "metadata": {},
     "output_type": "display_data"
    }
   ],
   "source": [
    "import sys\n",
    "sys.path.insert(0, '/astro/users/bmmorris/git/friedrich/')\n",
    "from friedrich.stsp import STSP\n",
    "from friedrich.lightcurve import LightCurve, hat11_params_morris_experiment, hat11_params_morris\n",
    "\n",
    "\n",
    "transit_params = hat11_params_morris_experiment()\n",
    "# transit_params.rp = 0.01#0.3\n",
    "# transit_params.inc = 90.0\n",
    "# transit_params.b = 0\n",
    "\n",
    "times = Time(np.arange(transit_params.t0 - 0.1, \n",
    "                       transit_params.t0 + 0.1, 1./60/24), format='jd')\n",
    "lc = LightCurve(times=times, fluxes=np.ones(len(times)), errors=np.ones(len(times)))\n",
    "\n",
    "start_time = Time('1947-04-06')\n",
    "end_time = Time('1947-04-09')\n",
    "#end_time = Time('1971-01-01')\n",
    "\n",
    "time_range = (table['jd'] < end_time.jd) & (table['jd'] > start_time.jd)\n",
    "spots_within_range = table[time_range]#[::100]\n",
    "\n",
    "# Plot the built-in projections\n",
    "fig = plt.figure(figsize=(8, 8))\n",
    "ax = plt.subplot(111)\n",
    "\n",
    "# for offset in np.linspace(0, 360, 20):\n",
    "offset = 180\n",
    "\n",
    "area = 1e-6*spots_within_range['group_area_day_1']\n",
    "r = 2 * np.arctan(np.sqrt(2 * area))\n",
    "\n",
    "# theta = np.radians(spots_within_range['longitude_day_1'])\n",
    "# phi = np.radians(90 - spots_within_range['latitude_day_1'])\n",
    "\n",
    "phi = np.radians(spots_within_range['longitude_day_1'] + offset)\n",
    "theta = np.radians(90 - spots_within_range['latitude_day_1'])\n",
    "\n",
    "spot_params = []\n",
    "\n",
    "for r_i, t_i, p_i in zip(r, theta, phi):\n",
    "    if len(spot_params) == 0:\n",
    "        spot_params.extend([r_i, t_i, p_i])\n",
    "    else: \n",
    "        split_params = np.split(np.array(spot_params), len(spot_params)//3)\n",
    "        distances = []\n",
    "        sufficiently_far = True\n",
    "        for params in split_params:\n",
    "            dist = np.sqrt((t_i - params[1])**2 + (p_i - params[2])**2)\n",
    "            distances.append(dist)\n",
    "            if dist < 1.05*(params[0] + r_i):\n",
    "                sufficiently_far = False\n",
    "        if sufficiently_far: \n",
    "            spot_params.extend([r_i, t_i, p_i])\n",
    "            print((np.degrees(p_i) - 180, np.degrees(t_i) - 90))\n",
    "            circle1=plt.Circle((np.degrees(p_i) - 180, np.degrees(t_i) - 90), \n",
    "                               np.degrees(r_i), color='k', alpha=0.3)\n",
    "            ax.add_artist(circle1)\n",
    "ax.set_xlim([-60, 60])\n",
    "ax.set_ylim([-40, 40])\n",
    "ax.set_aspect(1)\n",
    "ax.set(xlabel='Longitude', ylabel='Latitude')\n",
    "plt.show()\n",
    "\n",
    "spot_params = np.array(spot_params)                \n",
    "\n",
    "# phi = np.radians(spots_within_range['longitude_day_1'])\n",
    "# theta = np.radians(90 - spots_within_range['latitude_day_1'])\n",
    "\n",
    "# fig, ax = plt.subplots()\n",
    "# ax.plot(np.degrees(phi) - 180, np.degrees(theta) - 90,'o')\n",
    "# plt.show()\n",
    "s = STSP(lc, transit_params, spot_params)# np.vstack([r, theta, phi]).T.ravel())\n",
    "# s = STSP(lc, transit_params, [0.1, 0, 1.5707])\n",
    "t, f = s.stsp_lc()\n",
    "\n",
    "# lc.plot()\n",
    "plt.figure()\n",
    "plt.title('offset: {0}'.format(offset))\n",
    "plt.plot(t, f)\n",
    "plt.show()"
   ]
  },
  {
   "cell_type": "code",
   "execution_count": null,
   "metadata": {
    "collapsed": true
   },
   "outputs": [],
   "source": []
  },
  {
   "cell_type": "code",
   "execution_count": null,
   "metadata": {
    "collapsed": false
   },
   "outputs": [],
   "source": [
    "import sys\n",
    "sys.path.insert(0, '/Users/bmmorris/git/friedrich/')\n",
    "from friedrich.stsp import STSP\n",
    "from friedrich.lightcurve import LightCurve, hat11_params_morris_experiment, hat11_params_morris\n",
    "\n",
    "\n",
    "transit_params = hat11_params_morris_experiment()\n",
    "# transit_params.rp = 0.1\n",
    "# transit_params.inc = 89.99\n",
    "# transit_params.b = 0.001\n",
    "\n",
    "times = Time(np.arange(transit_params.t0 - 0.1, \n",
    "                       transit_params.t0 + 0.1, 1./60/24), format='jd')\n",
    "lc = LightCurve(times=times, fluxes=np.ones(len(times)), errors=np.ones(len(times)))\n",
    "\n",
    "\n",
    "start_time = Time('1970-01-01')\n",
    "end_time = Time('1971-01-01')\n",
    "\n",
    "time_range = (table['jd'] < end_time.jd) & (table['jd'] > start_time.jd)\n",
    "spots_within_range = table[time_range][::250]\n",
    "\n",
    "# Plot the built-in projections\n",
    "fig = plt.figure(figsize=(8, 8))\n",
    "ax = plt.subplot(111)\n",
    "\n",
    "cmap = plt.cm.viridis\n",
    "for spot in spots_within_range: \n",
    "    latitude, longitude = spot['group_latitude_day_1'], spot['group_longitude_day_1']\n",
    "    area = 1e-6*spot['group_area_day_1']\n",
    "\n",
    "    radius = 6 * np.degrees(np.sqrt(2 * area))\n",
    "\n",
    "    #print(longitude, latitude, radius)\n",
    "    circle1=plt.Circle((longitude, latitude), radius, color='k', alpha=0.3)\n",
    "    ax.add_artist(circle1)\n",
    "\n",
    "ax.set_xlim([-60, 60])\n",
    "ax.set_ylim([-40, 40])\n",
    "ax.set_aspect(1)\n",
    "ax.set(xlabel='Longitude', ylabel='Latitude')\n",
    "plt.show()\n",
    "\n",
    "area = 1e-6*spots_within_range['group_area_day_1']\n",
    "r =  10. * np.sqrt(2 * area)\n",
    "theta = np.radians(spots_within_range['longitude_day_1'])\n",
    "phi = np.radians(90 - spots_within_range['latitude_day_1'])\n",
    "# phi = np.radians(spots_within_range['longitude_day_1'])\n",
    "# theta = np.radians(90 - spots_within_range['latitude_day_1'])\n",
    "\n",
    "# fig, ax = plt.subplots()\n",
    "# ax.plot(theta, phi, 'o')\n",
    "# plt.show()\n",
    "# s = STSP(lc, transit_params, np.vstack([r, theta, phi]).T.ravel())\n",
    "s = STSP(lc, transit_params, np.array([0.2, 0, 1.5]))\n",
    "t, f = s.stsp_lc()\n",
    "# lc.plot()\n",
    "plt.figure()\n",
    "plt.plot(t, f)\n",
    "plt.show()"
   ]
  },
  {
   "cell_type": "code",
   "execution_count": null,
   "metadata": {
    "collapsed": true
   },
   "outputs": [],
   "source": []
  },
  {
   "cell_type": "code",
   "execution_count": null,
   "metadata": {
    "collapsed": false,
    "scrolled": false
   },
   "outputs": [],
   "source": [
    "\n",
    "transit_params = hat11_params_morris_experiment()\n",
    "transit_params.rp = 0.1\n",
    "times = Time(np.arange(transit_params.t0 - 0.1, \n",
    "                       transit_params.t0 + 0.1, 1./60/24), format='jd')\n",
    "lc = LightCurve(times=times, fluxes=np.ones(len(times)), errors=np.ones(len(times)))\n",
    "\n",
    "\n",
    "start_time = Time('1970-01-01')\n",
    "end_time = Time('1971-01-01')\n",
    "\n",
    "for i in range(20):\n",
    "    time_range = (table['jd'] < end_time.jd) & (table['jd'] > start_time.jd)\n",
    "    spots_within_range = table[time_range][i::250]\n",
    "\n",
    "    # Plot the built-in projections\n",
    "    fig = plt.figure(figsize=(8, 8))\n",
    "    ax = plt.subplot(111)\n",
    "\n",
    "    cmap = plt.cm.viridis\n",
    "    for spot in spots_within_range: \n",
    "        latitude, longitude = spot['group_latitude_day_1'], spot['group_longitude_day_1']\n",
    "        area = 1e-6*spot['group_area_day_1']\n",
    "\n",
    "        radius = 100 * np.tan(np.sqrt(2 * area))\n",
    "\n",
    "        #print(longitude, latitude, radius)\n",
    "        circle1=plt.Circle((longitude, latitude), radius, color='k', alpha=0.3)\n",
    "        ax.add_artist(circle1)\n",
    "\n",
    "    ax.set_xlim([-60, 60])\n",
    "    ax.set_ylim([-40, 40])\n",
    "    ax.set_aspect(1)\n",
    "    ax.set(xlabel='Longitude', ylabel='Latitude')\n",
    "    plt.show()\n",
    "\n",
    "    area = 1e-6*spots_within_range['group_area_day_1']\n",
    "    r = 75 * np.tan(np.sqrt(2 * area))\n",
    "    theta = np.radians(spots_within_range['longitude_day_1'] + i*5)\n",
    "    phi = np.radians(90 + spots_within_range['latitude_day_1'] + 90)\n",
    "    # phi = np.radians(spots_within_range['longitude_day_1'])\n",
    "    # theta = np.radians(90 - spots_within_range['latitude_day_1'])\n",
    "\n",
    "    s = STSP(lc, transit_params, np.vstack([r, theta, phi]).ravel())\n",
    "    t, f = s.stsp_lc()\n",
    "\n",
    "    #lc.plot()\n",
    "    plt.plot(t, f)\n",
    "    plt.title(i*5)\n",
    "    plt.show()"
   ]
  },
  {
   "cell_type": "code",
   "execution_count": null,
   "metadata": {
    "collapsed": false
   },
   "outputs": [],
   "source": []
  },
  {
   "cell_type": "code",
   "execution_count": null,
   "metadata": {
    "collapsed": true
   },
   "outputs": [],
   "source": []
  }
 ],
 "metadata": {
  "kernelspec": {
   "display_name": "Python 3",
   "language": "python",
   "name": "python3"
  },
  "language_info": {
   "codemirror_mode": {
    "name": "ipython",
    "version": 3
   },
   "file_extension": ".py",
   "mimetype": "text/x-python",
   "name": "python",
   "nbconvert_exporter": "python",
   "pygments_lexer": "ipython3",
   "version": "3.5.2"
  }
 },
 "nbformat": 4,
 "nbformat_minor": 0
}
